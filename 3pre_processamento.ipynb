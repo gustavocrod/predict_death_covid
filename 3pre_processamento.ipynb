{
 "cells": [
  {
   "cell_type": "markdown",
   "metadata": {},
   "source": [
    "## 0. Carregamento das bibliotecas"
   ]
  },
  {
   "cell_type": "code",
   "execution_count": 1,
   "metadata": {},
   "outputs": [],
   "source": [
    "# Manipulacao de dados\n",
    "import numpy as np\n",
    "import pandas as pd\n",
    "\n",
    "# Visualizacao de dados\n",
    "import matplotlib.pyplot as plt\n",
    "import missingno as msno\n",
    "import seaborn as sns\n",
    "\n",
    "# Selecao de caracteristicas e encoders\n",
    "from sklearn.preprocessing import OneHotEncoder, LabelEncoder, label_binarize\n",
    "\n",
    "# balanceamento\n",
    "from imblearn.under_sampling import RandomUnderSampler"
   ]
  },
  {
   "cell_type": "markdown",
   "metadata": {},
   "source": [
    "## 1. Carregamento dos dados"
   ]
  },
  {
   "cell_type": "code",
   "execution_count": 2,
   "metadata": {},
   "outputs": [],
   "source": [
    "df = pd.read_csv(\"covid_11_marco_limpo.csv\", sep=';')"
   ]
  },
  {
   "cell_type": "markdown",
   "metadata": {},
   "source": [
    "## 2.  *Feature Encoding*\n",
    "\n",
    "Como modelos de *machine learning* performam algebra linear em matrizes, precisamos que todas as variáveis estejam como valores numericos. O processo de conversão de variaveis categoricas em numéricas é chamado de *Encoding*. Existem algumas abordagens para converter os dados categóricos em numéricos, para que o modelo possa entendê-los. Veremos os dois métodos: **Label encoding** e **One-Hot encoding**.\n",
    "\n",
    "- Label Encoding: Recomendado quando lidamos com variáveis categóricas ordinais: Consiste em *designar um valor inteiro* (0, 1, 2, ...) oara cada valor unico da coluna.\n",
    "- One-hot encoding: Consiste em *criar uma nova coluna* para cada valor único de uma coluna existente.\n",
    "\n",
    "Material complementar:\n",
    "- [Um guia (simples) de como tratar variáveis categóricas em Machine Learning](https://medium.com/@nelson.ewert.oliveira/um-guia-simples-de-como-tratar-vari%C3%A1veis-categ%C3%B3ricas-em-machine-learning-b791a00da805)\n",
    "- [One-Hot Encoding vs. Label Encoding using Scikit-Learn](https://www.analyticsvidhya.com/blog/2020/03/one-hot-encoding-vs-label-encoding-using-scikit-learn/)\n",
    "- [Guide to Encoding Categorical Values in Python](https://pbpython.com/categorical-encoding.html)\n",
    "\n",
    "Para nosso contexto, vamos utilizar o **label encoding**.\n"
   ]
  },
  {
   "cell_type": "code",
   "execution_count": 3,
   "metadata": {},
   "outputs": [
    {
     "data": {
      "text/html": [
       "<div>\n",
       "<style scoped>\n",
       "    .dataframe tbody tr th:only-of-type {\n",
       "        vertical-align: middle;\n",
       "    }\n",
       "\n",
       "    .dataframe tbody tr th {\n",
       "        vertical-align: top;\n",
       "    }\n",
       "\n",
       "    .dataframe thead th {\n",
       "        text-align: right;\n",
       "    }\n",
       "</style>\n",
       "<table border=\"1\" class=\"dataframe\">\n",
       "  <thead>\n",
       "    <tr style=\"text-align: right;\">\n",
       "      <th></th>\n",
       "      <th>SEXO</th>\n",
       "      <th>FAIXAETARIA</th>\n",
       "      <th>OBITO</th>\n",
       "      <th>FEBRE</th>\n",
       "      <th>TOSSE</th>\n",
       "      <th>GARGANTA</th>\n",
       "      <th>DISPNEIA</th>\n",
       "      <th>GESTANTE</th>\n",
       "      <th>RACA_COR</th>\n",
       "      <th>CARDIOPATIA</th>\n",
       "      <th>DIABETES</th>\n",
       "      <th>DOENCA_RESPIRATORIA</th>\n",
       "      <th>DOENCA_NEUROLOGICA</th>\n",
       "      <th>PROBLEMA_RENAL</th>\n",
       "      <th>OBESIDADE</th>\n",
       "      <th>IMUNODEFICIENCIA</th>\n",
       "      <th>IMUNOSSUPRESSAO</th>\n",
       "      <th>HEPATITE</th>\n",
       "      <th>DOENCA_CROMOSSOMICA</th>\n",
       "      <th>PUERPERA</th>\n",
       "    </tr>\n",
       "  </thead>\n",
       "  <tbody>\n",
       "    <tr>\n",
       "      <th>0</th>\n",
       "      <td>0</td>\n",
       "      <td>6</td>\n",
       "      <td>0</td>\n",
       "      <td>0</td>\n",
       "      <td>0</td>\n",
       "      <td>0</td>\n",
       "      <td>0</td>\n",
       "      <td>0</td>\n",
       "      <td>1</td>\n",
       "      <td>0</td>\n",
       "      <td>0</td>\n",
       "      <td>0</td>\n",
       "      <td>0</td>\n",
       "      <td>0</td>\n",
       "      <td>0</td>\n",
       "      <td>0</td>\n",
       "      <td>0</td>\n",
       "      <td>0</td>\n",
       "      <td>0</td>\n",
       "      <td>0</td>\n",
       "    </tr>\n",
       "    <tr>\n",
       "      <th>1</th>\n",
       "      <td>1</td>\n",
       "      <td>3</td>\n",
       "      <td>0</td>\n",
       "      <td>0</td>\n",
       "      <td>0</td>\n",
       "      <td>0</td>\n",
       "      <td>0</td>\n",
       "      <td>0</td>\n",
       "      <td>1</td>\n",
       "      <td>0</td>\n",
       "      <td>0</td>\n",
       "      <td>0</td>\n",
       "      <td>0</td>\n",
       "      <td>0</td>\n",
       "      <td>0</td>\n",
       "      <td>0</td>\n",
       "      <td>0</td>\n",
       "      <td>0</td>\n",
       "      <td>0</td>\n",
       "      <td>0</td>\n",
       "    </tr>\n",
       "    <tr>\n",
       "      <th>2</th>\n",
       "      <td>0</td>\n",
       "      <td>7</td>\n",
       "      <td>0</td>\n",
       "      <td>0</td>\n",
       "      <td>0</td>\n",
       "      <td>0</td>\n",
       "      <td>0</td>\n",
       "      <td>0</td>\n",
       "      <td>1</td>\n",
       "      <td>0</td>\n",
       "      <td>0</td>\n",
       "      <td>0</td>\n",
       "      <td>0</td>\n",
       "      <td>0</td>\n",
       "      <td>0</td>\n",
       "      <td>0</td>\n",
       "      <td>0</td>\n",
       "      <td>0</td>\n",
       "      <td>0</td>\n",
       "      <td>0</td>\n",
       "    </tr>\n",
       "    <tr>\n",
       "      <th>3</th>\n",
       "      <td>0</td>\n",
       "      <td>7</td>\n",
       "      <td>0</td>\n",
       "      <td>1</td>\n",
       "      <td>0</td>\n",
       "      <td>0</td>\n",
       "      <td>1</td>\n",
       "      <td>0</td>\n",
       "      <td>1</td>\n",
       "      <td>1</td>\n",
       "      <td>0</td>\n",
       "      <td>0</td>\n",
       "      <td>0</td>\n",
       "      <td>0</td>\n",
       "      <td>0</td>\n",
       "      <td>0</td>\n",
       "      <td>0</td>\n",
       "      <td>0</td>\n",
       "      <td>0</td>\n",
       "      <td>0</td>\n",
       "    </tr>\n",
       "    <tr>\n",
       "      <th>4</th>\n",
       "      <td>0</td>\n",
       "      <td>6</td>\n",
       "      <td>0</td>\n",
       "      <td>1</td>\n",
       "      <td>1</td>\n",
       "      <td>0</td>\n",
       "      <td>0</td>\n",
       "      <td>0</td>\n",
       "      <td>3</td>\n",
       "      <td>0</td>\n",
       "      <td>0</td>\n",
       "      <td>0</td>\n",
       "      <td>0</td>\n",
       "      <td>0</td>\n",
       "      <td>0</td>\n",
       "      <td>0</td>\n",
       "      <td>0</td>\n",
       "      <td>0</td>\n",
       "      <td>0</td>\n",
       "      <td>0</td>\n",
       "    </tr>\n",
       "  </tbody>\n",
       "</table>\n",
       "</div>"
      ],
      "text/plain": [
       "   SEXO  FAIXAETARIA  OBITO  FEBRE  TOSSE  GARGANTA  DISPNEIA  GESTANTE  \\\n",
       "0     0            6      0      0      0         0         0         0   \n",
       "1     1            3      0      0      0         0         0         0   \n",
       "2     0            7      0      0      0         0         0         0   \n",
       "3     0            7      0      1      0         0         1         0   \n",
       "4     0            6      0      1      1         0         0         0   \n",
       "\n",
       "   RACA_COR  CARDIOPATIA  DIABETES  DOENCA_RESPIRATORIA  DOENCA_NEUROLOGICA  \\\n",
       "0         1            0         0                    0                   0   \n",
       "1         1            0         0                    0                   0   \n",
       "2         1            0         0                    0                   0   \n",
       "3         1            1         0                    0                   0   \n",
       "4         3            0         0                    0                   0   \n",
       "\n",
       "   PROBLEMA_RENAL  OBESIDADE  IMUNODEFICIENCIA  IMUNOSSUPRESSAO  HEPATITE  \\\n",
       "0               0          0                 0                0         0   \n",
       "1               0          0                 0                0         0   \n",
       "2               0          0                 0                0         0   \n",
       "3               0          0                 0                0         0   \n",
       "4               0          0                 0                0         0   \n",
       "\n",
       "   DOENCA_CROMOSSOMICA  PUERPERA  \n",
       "0                    0         0  \n",
       "1                    0         0  \n",
       "2                    0         0  \n",
       "3                    0         0  \n",
       "4                    0         0  "
      ]
     },
     "execution_count": 3,
     "metadata": {},
     "output_type": "execute_result"
    }
   ],
   "source": [
    "df = df.apply(LabelEncoder().fit_transform)\n",
    "\n",
    "df.head()"
   ]
  },
  {
   "cell_type": "markdown",
   "metadata": {},
   "source": [
    "## 3. Seleção / Redução de características\n",
    "\n",
    "Uma vez que temos as nossas *features* prontas para uso, talvez podemos achar que o número de *features* disponíveis é muito grande para treinar modelos de machine learning em um tempo rasoável. Isto também impacta na complexidade dos modelos. Existem algumas opções disponíveis para redução de características e seleção de características (*feature reduction* e *feature selection*).\n",
    "\n",
    " - Redução de dimensionalidade (*Dimensionality Reduction*):\n",
    "     - Análise do componente principal (PCA - *Principal Component Analysis*): É um método estatístico que usa transformação ortogonal para converter um conjunto de observações de variáveis possivelmente correlacionadas em um conjunto de valores de valores de variaveis linearmente não-correlacionadas, chamado de componentes principais. Esta transformação é definida de tal forma que o primeiro componente principal tem a maior variância possível (ou seja, é responsável pelo máximo possível da variabilidade nos dados), e cada componente sucessivo, por sua vez, tem a maior variância possível sob a restrição que é ortogonal aos componentes anteriores.\n",
    "     - Decomposição do Valor Singular (SVD - *Singular Value Decomposition*): É uma fatorização de uma matriz real ou complexa. É a generalização da decomposição automática de uma matriz normal semidefinida positiva (*e.g.* uma matriz simétrica com autovalores positivos) para qualquer matriz m x n por meio de uma extensão da decomposição polar. Ele tem muitas aplicações úteis em processamento de sinais e estatísticas.\n",
    " - Importância/relevância de características (*Feature Importance/Relevance*):\n",
    "     - Métodos de filtragem (*Filter Methods*): Métodos de filtragem de tipo selecionam características baseadas apenas em méticas gerais, tipo correlação desta variável com a variável preditora. Métodos de filtragem suprimem as variáveis menos \"interessantes\". Esse método é particularmente efetivo em tempo de computação e trás robustêz contra *overfitting*.\n",
    "     - Métodos de invólucro (*Wrapper methods*): São utilizados para avaliar subconjuntos de variáveis que possibilitam (diferentemente dos metodos de filtragem) detectar possíveis interações entre variáveis. As duas principais desvantagens desses métodos são: (1) aumento do risco de *overfitting* quando o número de amostras é pequeno ou insuficiente. (2) Aumento significativo do tempo de conputação quando o número de variáveis é grande.\n",
    "     - Métodos imbutidos (*Embedded Methods*): Tentam combinar a vantagem dos dois métodos anteriores. Um algoritmo de aprendizagem toma vantagem do seu próprio processo de seleção de variáveis e executa a seleção de caraterísticas e classificação simultâneamente.\n",
    "     \n",
    "#### Correlação entre as características\n",
    "\n",
    "Os coeficientes de correlação é a medida do quanto duas variáveis aleatóricas mudam juntas. O que a correlação procura entender é como uma variável se comporta em um cenário onde outra está variando, visando identificar se existe alguma relação entre a variabilidade de ambas. Embora não implique em causalidade, o coeficiente de correlação exprime em números essa relação, ou seja, quantifica a relação entre as variáveis. Em suma, **é o quanto uma variável está ligada a outra.**\n",
    "\n",
    "O coeficiente de correlação de Pearson (r), também chamado de correlação linear ou r de Pearson, é um grau de relação entre duas variáveis quantitativas e exprime o grau de correlação através de valores situados entre -1 e 1.\n",
    "\n",
    "Quando  o coeficiente de correlação se aproxima de 1, nota-se um aumento no valor de uma variável quando a outra também aumenta, ou seja, há uma relação linear positiva. Quando o coeficiente se aproxima de -1, também é possível dizer que as variáveis são correlacionadas, mas nesse caso quando o valor de uma variável aumenta o da outra diminui. Isso é o que é chamado de correlação negativa ou inversa.\n",
    "\n",
    "Características podem estar não-correlacionadas ou correlacionadas com a característica que estamos predizer.\n",
    "\n",
    "Para critério de inclusão e de importância de características, vamos observar apenas as variáveis que possuem um coeficiente >= +- 0.1 com relação a nossa variável predita (ÓBITO).  \n",
    "     "
   ]
  },
  {
   "cell_type": "code",
   "execution_count": 4,
   "metadata": {},
   "outputs": [],
   "source": [
    "corr = df.corr().abs()\n",
    "columns_keep = corr[corr.loc['OBITO'] >= 0.1].index\n",
    "df = df.filter(columns_keep)"
   ]
  },
  {
   "cell_type": "code",
   "execution_count": 5,
   "metadata": {},
   "outputs": [
    {
     "data": {
      "image/png": "[encoded data removed]",
      "text/plain": [
       "<Figure size 2160x720 with 2 Axes>"
      ]
     },
     "metadata": {},
     "output_type": "display_data"
    }
   ],
   "source": [
    "# matriz de correlacao\n",
    "plt.style.use('seaborn-whitegrid')\n",
    "fig = plt.figure(figsize=(30,10)) \n",
    "\n",
    "# gerando mascara para a diagonal superior ficar vazia\n",
    "mask = np.zeros_like(df.corr(method='pearson'), dtype=np.bool)\n",
    "mask[np.triu_indices_from(mask)] = True\n",
    "sns.heatmap(df.corr(method='pearson'), \n",
    "            vmin=-1, vmax=1, \n",
    "            square=True, \n",
    "            cmap=sns.color_palette(\"magma\", 100), \n",
    "            mask=mask, \n",
    "            annot=True,\n",
    "            fmt='.1g',\n",
    "            linewidths=.5);"
   ]
  },
  {
   "cell_type": "markdown",
   "metadata": {},
   "source": [
    "# Conclusão\n",
    "Após as transformações e preprocessamento, vamos armazenar o data frame para construção do modelo posterior."
   ]
  },
  {
   "cell_type": "code",
   "execution_count": 6,
   "metadata": {},
   "outputs": [],
   "source": [
    "df.to_csv(\"covid_11_marco_pre_process.csv\", sep=';', index=False)"
   ]
  },
  {
   "cell_type": "markdown",
   "metadata": {},
   "source": [
    "## [EXTRA] 4. Feature Importance\n",
    "Florestas aleatórias consistem em um conjunto de árvores de decisão. Cada nó na árvore de decisão é uma condição de uma variável única, que objetiva dividir o conjunto de dados em dois de forma que valores de resposta semelhantes estejam no mesmo conjunto. A medida com base na qual a condição ótima (máximo local) é escolhido é chamado de *impurity*. Ao treinar uma árvore, pode-se calcular quanto cada recurso diminui a impureza ponderada em uma árvore. Para uma floresta, a diminuição da impureza de cada característica pode ser calculada e as características são classificadas de acordo com esta medida. Esta é a medida classificação de *feature importance* exposta nas implementações da Random Forest do sklearn, e existe dentro de `feature_importances_`.\n",
    "\n",
    "Vamos utilizar de uma floresta aleatória para entender a importância das características do nosso conjunto de dados."
   ]
  },
  {
   "cell_type": "code",
   "execution_count": 9,
   "metadata": {},
   "outputs": [
    {
     "data": {
      "image/png": "[encoded data removed]",
      "text/plain": [
       "<Figure size 864x216 with 1 Axes>"
      ]
     },
     "metadata": {},
     "output_type": "display_data"
    }
   ],
   "source": [
    "from sklearn.ensemble import RandomForestClassifier\n",
    "\n",
    "rf = RandomForestClassifier()\n",
    "rf.fit(df.drop('OBITO', axis=1), df['OBITO'])\n",
    "\n",
    "plt.style.use('seaborn-whitegrid')\n",
    "importance = rf.feature_importances_\n",
    "importance = pd.DataFrame(importance, index=df.drop('OBITO', axis=1).columns, columns=[\"Importância\"])\n",
    "importance.sort_values(by='Importância', ascending=True).plot(kind='barh', figsize=(12,len(importance)/2));"
   ]
  },
  {
   "cell_type": "code",
   "execution_count": null,
   "metadata": {},
   "outputs": [],
   "source": []
  }
 ],
 "metadata": {
  "kernelspec": {
   "display_name": "Python 3",
   "language": "python",
   "name": "python3"
  },
  "language_info": {
   "codemirror_mode": {
    "name": "ipython",
    "version": 3
   },
   "file_extension": ".py",
   "mimetype": "text/x-python",
   "name": "python",
   "nbconvert_exporter": "python",
   "pygments_lexer": "ipython3",
   "version": "3.6.9"
  }
 },
 "nbformat": 4,
 "nbformat_minor": 4
}
