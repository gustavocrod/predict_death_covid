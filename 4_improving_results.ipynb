{
 "cells": [
  {
   "cell_type": "markdown",
   "metadata": {
    "cell_id": "00000-fa81c95e-41a0-47f1-b50f-c108d497a46c",
    "deepnote_cell_type": "markdown"
   },
   "source": [
    "### Carregamento das bibliotecas"
   ]
  },
  {
   "cell_type": "code",
   "execution_count": 1,
   "metadata": {
    "cell_id": "00001-1a8426fd-c24c-4af0-bf3a-e2c4e6daeaf4",
    "deepnote_cell_type": "code",
    "deepnote_to_be_reexecuted": false,
    "execution_millis": 2823,
    "execution_start": 1624482662464,
    "source_hash": "e7485000"
   },
   "outputs": [],
   "source": [
    "# Manipulacao de dados\n",
    "import numpy as np\n",
    "import pandas as pd\n",
    "\n",
    "# Visualizacao de dados\n",
    "import matplotlib.pyplot as plt\n",
    "import seaborn as sns\n",
    "import scikitplot as skplt\n",
    "\n",
    "# Machine learning \n",
    "from sklearn.tree import DecisionTreeClassifier\n",
    "from sklearn.ensemble import RandomForestClassifier\n",
    "from xgboost import XGBClassifier\n",
    "\n",
    "# balanceamento\n",
    "from imblearn.under_sampling import RandomUnderSampler\n",
    "\n",
    "# Grid e Random Search\n",
    "from sklearn.model_selection import GridSearchCV, RepeatedStratifiedKFold\n",
    "from sklearn.model_selection import RandomizedSearchCV\n",
    "from sklearn.model_selection import train_test_split\n",
    "\n",
    "# cross validate\n",
    "from sklearn.model_selection import StratifiedKFold, cross_validate, KFold \n",
    "from sklearn.metrics import make_scorer\n",
    "from sklearn.model_selection import cross_val_predict, cross_val_score\n",
    "from sklearn.metrics import confusion_matrix, plot_precision_recall_curve\n",
    "\n",
    "# Selecao de caracteristicas e encoders\n",
    "from sklearn.preprocessing import OneHotEncoder, LabelEncoder, label_binarize\n",
    "\n",
    "# Metricas de avaliacao\n",
    "from sklearn.metrics import roc_curve, auc, roc_auc_score, accuracy_score, classification_report, confusion_matrix\n",
    "from sklearn.metrics import recall_score, precision_score, f1_score, average_precision_score, plot_roc_curve\n",
    "\n",
    "# remover warning\n",
    "import warnings\n",
    "warnings.filterwarnings('ignore')"
   ]
  },
  {
   "cell_type": "code",
   "execution_count": 2,
   "metadata": {
    "cell_id": "00002-01535e3b-d6d9-44e9-8973-88f828efcd22",
    "deepnote_cell_type": "code",
    "deepnote_to_be_reexecuted": false,
    "execution_millis": 4,
    "execution_start": 1624482665320,
    "source_hash": "d976a16",
    "tags": []
   },
   "outputs": [],
   "source": [
    "from itertools import product\n",
    "\n",
    "class ConfusionMatrixDisplay:\n",
    "    def __init__(self, confusion_matrix, *, display_labels=None):\n",
    "        self.confusion_matrix = confusion_matrix\n",
    "        self.display_labels = display_labels\n",
    "\n",
    "    def plot(self, *, include_values=True, cmap='Blues',\n",
    "             xticks_rotation='horizontal', values_format=None,\n",
    "             ax=None, colorbar=True):\n",
    "        \n",
    "        import matplotlib.pyplot as plt\n",
    "\n",
    "        if ax is None:\n",
    "            fig, ax = plt.subplots()\n",
    "        else:\n",
    "            fig = ax.figure\n",
    "\n",
    "        cm = self.confusion_matrix\n",
    "        n_classes = cm.shape[0]\n",
    "        self.im_ = ax.imshow(cm, interpolation='nearest', cmap=cmap)\n",
    "        self.text_ = None\n",
    "        cmap_min, cmap_max = self.im_.cmap(0), self.im_.cmap(1.0)\n",
    "\n",
    "        if include_values:\n",
    "            self.text_ = np.empty_like(cm, dtype=object)\n",
    "\n",
    "            # print text with appropriate color depending on background\n",
    "            thresh = (cm.max() + cm.min()) / 2.0\n",
    "\n",
    "            for i, j in product(range(n_classes), range(n_classes)):\n",
    "                color = cmap_max if cm[i, j] < thresh else cmap_min\n",
    "\n",
    "                if values_format is None:\n",
    "                    text_cm = format(cm[i, j], '.2g')\n",
    "                    if cm.dtype.kind != 'f':\n",
    "                        text_d = format(cm[i, j], 'd')\n",
    "                        if len(text_d) < len(text_cm):\n",
    "                            text_cm = text_d\n",
    "                else:\n",
    "                    text_cm = format(cm[i, j], values_format)\n",
    "\n",
    "                self.text_[i, j] = ax.text(\n",
    "                    j, i, text_cm,\n",
    "                    ha=\"center\", va=\"center\",\n",
    "                    color=color)\n",
    "\n",
    "        if self.display_labels is None:\n",
    "            display_labels = np.arange(n_classes)\n",
    "        else:\n",
    "            display_labels = self.display_labels\n",
    "        if colorbar:\n",
    "            fig.colorbar(self.im_, ax=ax)\n",
    "        ax.set(xticks=np.arange(n_classes),\n",
    "               yticks=np.arange(n_classes),\n",
    "               xticklabels=display_labels,\n",
    "               yticklabels=display_labels,\n",
    "               ylabel=\"Valor Real\",\n",
    "               xlabel=\"Valor Predito\")\n",
    "\n",
    "        ax.set_ylim((n_classes - 0.5, -0.5))\n",
    "        plt.setp(ax.get_xticklabels(), rotation=xticks_rotation)\n",
    "\n",
    "        self.figure_ = fig\n",
    "        self.ax_ = ax\n",
    "        return self\n",
    "\n",
    "    @classmethod\n",
    "    def from_estimator(\n",
    "        cls,\n",
    "        estimator,\n",
    "        X,\n",
    "        y,\n",
    "        *,\n",
    "        labels=None,\n",
    "        sample_weight=None,\n",
    "        normalize=None,\n",
    "        display_labels=None,\n",
    "        include_values=True,\n",
    "        xticks_rotation=\"horizontal\",\n",
    "        values_format=None,\n",
    "        cmap=\"Blues\",\n",
    "        ax=None,\n",
    "        colorbar=True,\n",
    "    ):\n",
    "        \n",
    "        method_name = f\"{cls.__name__}.from_estimator\"\n",
    "        \n",
    "        if not is_classifier(estimator):\n",
    "            raise ValueError(f\"{method_name} only supports classifiers\")\n",
    "        y_pred = estimator.predict(X)\n",
    "\n",
    "        return cls.from_predictions(\n",
    "            y,\n",
    "            y_pred,\n",
    "            sample_weight=sample_weight,\n",
    "            labels=labels,\n",
    "            normalize=normalize,\n",
    "            display_labels=display_labels,\n",
    "            include_values=include_values,\n",
    "            cmap=cmap,\n",
    "            ax=ax,\n",
    "            xticks_rotation=xticks_rotation,\n",
    "            values_format=values_format,\n",
    "            colorbar=colorbar,\n",
    "        )\n",
    "\n",
    "    @classmethod\n",
    "    def from_predictions(\n",
    "        cls,\n",
    "        y_true,\n",
    "        y_pred,\n",
    "        *,\n",
    "        labels=None,\n",
    "        sample_weight=None,\n",
    "        normalize=None,\n",
    "        display_labels=None,\n",
    "        include_values=True,\n",
    "        xticks_rotation=\"horizontal\",\n",
    "        values_format=None,\n",
    "        cmap=\"Blues\",\n",
    "        ax=None,\n",
    "        colorbar=True,\n",
    "    ):\n",
    "\n",
    "        check_matplotlib_support(f\"{cls.__name__}.from_predictions\")\n",
    "\n",
    "        if display_labels is None:\n",
    "            if labels is None:\n",
    "                display_labels = unique_labels(y_true, y_pred)\n",
    "            else:\n",
    "                display_labels = labels\n",
    "\n",
    "        cm = confusion_matrix(\n",
    "            y_true,\n",
    "            y_pred,\n",
    "            sample_weight=sample_weight,\n",
    "            labels=labels,\n",
    "            normalize=normalize,\n",
    "        )\n",
    "\n",
    "        disp = cls(confusion_matrix=cm, display_labels=display_labels)\n",
    "\n",
    "        return disp.plot(\n",
    "            include_values=include_values,\n",
    "            cmap=cmap,\n",
    "            ax=ax,\n",
    "            xticks_rotation=xticks_rotation,\n",
    "            values_format=values_format,\n",
    "            colorbar=colorbar,\n",
    "        )\n",
    "\n",
    "\n",
    "def plot_confusion_matrix_edit(estimator, X, y_true, *, labels=None,\n",
    "                          sample_weight=None, normalize=None,\n",
    "                          display_labels=None, include_values=True,\n",
    "                          xticks_rotation='horizontal',\n",
    "                          values_format=None,\n",
    "                          cmap='Blues', ax=None, colorbar=True):\n",
    "\n",
    "    y_pred = estimator.predict(X)\n",
    "    cm = confusion_matrix(y_true, y_pred, sample_weight=sample_weight,\n",
    "                          labels=labels, normalize=normalize)\n",
    "\n",
    "    if display_labels is None:\n",
    "        if labels is None:\n",
    "            display_labels = unique_labels(y_true, y_pred)\n",
    "        else:\n",
    "            display_labels = labels\n",
    "\n",
    "    disp = ConfusionMatrixDisplay(confusion_matrix=cm,\n",
    "                                  display_labels=display_labels)\n",
    "    return disp.plot(include_values=include_values,\n",
    "                     cmap=cmap, ax=ax, xticks_rotation=xticks_rotation,\n",
    "                     values_format=values_format, colorbar=colorbar)"
   ]
  },
  {
   "cell_type": "code",
   "execution_count": 3,
   "metadata": {
    "cell_id": "00002-90994260-e18c-4b11-9b68-10e3e85d30a6",
    "deepnote_cell_type": "code",
    "deepnote_to_be_reexecuted": false,
    "execution_millis": 464,
    "execution_start": 1624482665328,
    "source_hash": "275dc1aa"
   },
   "outputs": [],
   "source": [
    "df = pd.read_csv(\"files/covid_2021_prepared.csv\", sep=';')"
   ]
  },
  {
   "cell_type": "markdown",
   "metadata": {
    "cell_id": "00003-9d4fa29f-7996-4442-aca4-da8eb61f10c6",
    "deepnote_cell_type": "markdown"
   },
   "source": [
    "___\n",
    "# IV. Melhoramento do modelo selecionado"
   ]
  },
  {
   "cell_type": "code",
   "execution_count": 4,
   "metadata": {
    "cell_id": "00004-d11ea35a-b206-44aa-bf6d-e24fa0eae2f7",
    "deepnote_cell_type": "code",
    "deepnote_to_be_reexecuted": false,
    "execution_millis": 2,
    "execution_start": 1624482665802,
    "source_hash": "71d65e33"
   },
   "outputs": [],
   "source": [
    "def get_ratios(y):\n",
    "    \"\"\"\n",
    "        y: y_train ou y_test\n",
    "        retorna total e porcentagens\n",
    "    \"\"\"\n",
    "    \n",
    "    df1 = y.value_counts().rename_axis('OBITO').reset_index(name='Total')\n",
    "    df2 = (y.value_counts(normalize=True)*100).rename_axis('OBITO').reset_index(name='Porcentagem').drop(columns='OBITO')\n",
    "    df_concat = pd.concat([df1, df2], axis=1)\n",
    "\n",
    "    return df_concat"
   ]
  },
  {
   "cell_type": "markdown",
   "metadata": {
    "cell_id": "00005-36412122-2a7f-4462-b518-4ffc89f4f672",
    "deepnote_cell_type": "markdown"
   },
   "source": [
    "## 1. Dados desbalanceados\n",
    "\n",
    "### 1.1 Consequências dos dados desbalanceados\n",
    "Se você está construindo um modelo de machine learning para classificação, por exemplo, a consequência desse desequilíbrio é que o modelo terá uma tendência a dar muitos \"alarmes falsos\".\n",
    "\n",
    "Ou seja, na prática ele irá responder muito bem entradas para as classes majoritárias, mas terá um desempenho inferior para as minoriárias.\n",
    "\n",
    "No exemplo de detecção de fraude com cartões de crédito (onde o número de transações financeiras normais é bem maior que o número de transações fraudulentas), um classificador tenderá a apresentar muitos falsos negativos - uma situação indesejável para um banco, obviamente.\n",
    "\n",
    "Em um trade-off, seria preferível \"errar para mais\" e ter uma quantidade maior de falsos positivos. Aliás, aposto que você já teve seu cartão bloqueado preventivamente e teve que ligar no banco para confirmar as últimas compras que havia feito, não é mesmo?!\n",
    "\n",
    "Teoricamente, um dataset que possua qualquer classe com mais de 50% das entradas já é considerado desbalanceado. No entanto, há situações extremas onde você vai encontrar proporções maiores que 99:1.\n",
    "\n",
    "Existem várias abordagens para lidar com dados desbalanceados, cada uma com seus prós e contras. Neste artigo, irei mostrar alguns dos métodos mais populares para você incluir desde já no seu arsenal.\n",
    "\n",
    "### 1.2 Métodos para lidar com datasets desbalanceados\n",
    "\n",
    "Há diversas maneiras para atacar o problema de dados desbalanceados, que envolvem desde a construção de algoritmos específicos até a aplicação de algoritmos mais avançados como Recognition-based Learning e Cost-sensitive Learning.\n",
    "\n",
    "No entanto, uma outra abordagem bem mais simples tem sido amplamente usada (com ótimos resultados), a abordagem *sampling*.\n",
    "\n",
    "*Sampling* é um pré-processamento que visa minimizar as discrepâncias entre as classes por meio de uma reamostragem do dataset original. Para gerar um conjunto balanceado, são usadas normalmente as seguintes técnicas:\n",
    "\n",
    " - Over-sampling: cria novas observações da classe minoritária a partir das informações contidas nos dados originais. Essa geração de novas entradas pode ser feita aleatoriamente com o auxílio de técnicas de clustering ou sinteticamente.\n",
    "\n",
    " - Under-sampling: reduz o desbalanceamento do dataset focando na classe majoritária. Ou seja, elimina aleatoriamente entradas da classe com maior número de ocorrências.\n",
    "\n",
    "Além dessas duas técnicas de *sampling*, existem também os advanced sampling methods, como SMOTE e ADASYN, onde instâncias são adicionadas ou removidas adaptativamente.\n",
    "\n",
    "Para isso, podemos usar abordagens que levam em conta apenas a avaliação do modelo, ou técnicas para rebalanceamento como a **undersampling**, que consiste em reamostrar a classe majoritária (nesse caso, recuperado) e manter apenas uma parte desses pontos.\n",
    "\n",
    "![under sampling](files/resampling.png)\n",
    "\n",
    "#### *tradeoff*\n",
    "Ao usar um método de reamostragem (por exemplo, para obter tantos dados de ÓBITO quanto de RECUPERADOS), mostramos as proporções erradas das duas classes para o classificador durante o treinamento. O classificador treinado dessa maneira terá uma precisão menor nos dados de teste reais futuros do que o classificador treinado no conjunto de dados inalterado. Na verdade, as verdadeiras proporções das classes são importantes para saber para classificar um novo ponto e essa informação foi perdida ao reamostrar o conjunto de dados. \n",
    "\n",
    "- [Handling imbalanced datasets in machine learning](https://towardsdatascience.com/handling-imbalanced-datasets-in-machine-learning-7a0e84220f28)\n",
    "- [Learning pattern classification tasks with imbalanced data sets](https://ro.uow.edu.au/cgi/viewcontent.cgi?referer=https://www.google.com/&httpsredir=1&article=1806&context=infopapers)\n",
    "- [There is No Free Lunch in Data Science](https://www.kdnuggets.com/2019/09/no-free-lunch-data-science.html)\n",
    "- [Imbalanced Classification](https://machinelearningmastery.com/start-here/#imbalanced)"
   ]
  },
  {
   "cell_type": "code",
   "execution_count": 5,
   "metadata": {
    "cell_id": "00006-54520f66-3904-4549-9a81-eac4c54901e1",
    "deepnote_cell_type": "code",
    "deepnote_to_be_reexecuted": false,
    "execution_millis": 4,
    "execution_start": 1624482677794,
    "source_hash": "58be46c"
   },
   "outputs": [],
   "source": [
    "X_ = df.drop(['EVOLUCAO'], axis=1)\n",
    "y_ = df['EVOLUCAO']"
   ]
  },
  {
   "cell_type": "code",
   "execution_count": 6,
   "metadata": {
    "cell_id": "00007-4dbe915d-5a8f-40bb-a699-9c13b1fb5fb0",
    "deepnote_cell_type": "code",
    "deepnote_to_be_reexecuted": false,
    "execution_millis": 414,
    "execution_start": 1624482679153,
    "source_hash": "59d7c0c8"
   },
   "outputs": [],
   "source": [
    "# Validacao\n",
    "X, X_test_, y, y_test_ = train_test_split(X_, y_, stratify=y_, test_size=0.3, random_state=777)"
   ]
  },
  {
   "cell_type": "code",
   "execution_count": 7,
   "metadata": {
    "cell_id": "00009-b8720e87-2721-424c-b55d-8da4b5b12a3f",
    "deepnote_cell_type": "code",
    "deepnote_to_be_reexecuted": false,
    "execution_millis": 0,
    "execution_start": 1624482680127,
    "source_hash": "8f0d24d5",
    "tags": []
   },
   "outputs": [],
   "source": [
    "y.reset_index(drop=True, inplace=True)"
   ]
  },
  {
   "cell_type": "code",
   "execution_count": 8,
   "metadata": {
    "cell_id": "00010-062c29e4-b32c-497a-8dee-a3da245215a1",
    "deepnote_cell_type": "code",
    "deepnote_to_be_reexecuted": false,
    "execution_millis": 0,
    "execution_start": 1624482680727,
    "source_hash": "6da158bf",
    "tags": []
   },
   "outputs": [],
   "source": [
    "X.reset_index(drop=True, inplace=True)"
   ]
  },
  {
   "cell_type": "code",
   "execution_count": 9,
   "metadata": {
    "cell_id": "00008-91ed488d-6116-40c9-a188-a331bfb95466",
    "deepnote_cell_type": "code",
    "deepnote_to_be_reexecuted": false,
    "execution_millis": 51,
    "execution_start": 1624482681508,
    "source_hash": "1b1443e7"
   },
   "outputs": [
    {
     "data": {
      "text/html": [
       "<div>\n",
       "<style scoped>\n",
       "    .dataframe tbody tr th:only-of-type {\n",
       "        vertical-align: middle;\n",
       "    }\n",
       "\n",
       "    .dataframe tbody tr th {\n",
       "        vertical-align: top;\n",
       "    }\n",
       "\n",
       "    .dataframe thead th {\n",
       "        text-align: right;\n",
       "    }\n",
       "</style>\n",
       "<table border=\"1\" class=\"dataframe\">\n",
       "  <thead>\n",
       "    <tr style=\"text-align: right;\">\n",
       "      <th></th>\n",
       "      <th>OBITO</th>\n",
       "      <th>Total</th>\n",
       "      <th>Porcentagem</th>\n",
       "    </tr>\n",
       "  </thead>\n",
       "  <tbody>\n",
       "    <tr>\n",
       "      <th>0</th>\n",
       "      <td>0</td>\n",
       "      <td>395954</td>\n",
       "      <td>96.819975</td>\n",
       "    </tr>\n",
       "    <tr>\n",
       "      <th>1</th>\n",
       "      <td>1</td>\n",
       "      <td>13005</td>\n",
       "      <td>3.180025</td>\n",
       "    </tr>\n",
       "  </tbody>\n",
       "</table>\n",
       "</div>"
      ],
      "text/plain": [
       "   OBITO   Total  Porcentagem\n",
       "0      0  395954    96.819975\n",
       "1      1   13005     3.180025"
      ]
     },
     "execution_count": 9,
     "metadata": {},
     "output_type": "execute_result"
    }
   ],
   "source": [
    "get_ratios(y)"
   ]
  },
  {
   "cell_type": "markdown",
   "metadata": {
    "cell_id": "00012-7e4a6986-ca59-4ec9-be9a-479e83ca904f",
    "deepnote_cell_type": "markdown",
    "tags": []
   },
   "source": [
    "## Validation"
   ]
  },
  {
   "cell_type": "code",
   "execution_count": 10,
   "metadata": {
    "cell_id": "00009-0cbb1f0b-3454-4f4d-8ba5-834d31dab003",
    "deepnote_cell_type": "code",
    "deepnote_to_be_reexecuted": false,
    "execution_millis": 31,
    "execution_start": 1624457035802,
    "source_hash": "ede4d6ad"
   },
   "outputs": [
    {
     "data": {
      "text/html": [
       "<div>\n",
       "<style scoped>\n",
       "    .dataframe tbody tr th:only-of-type {\n",
       "        vertical-align: middle;\n",
       "    }\n",
       "\n",
       "    .dataframe tbody tr th {\n",
       "        vertical-align: top;\n",
       "    }\n",
       "\n",
       "    .dataframe thead th {\n",
       "        text-align: right;\n",
       "    }\n",
       "</style>\n",
       "<table border=\"1\" class=\"dataframe\">\n",
       "  <thead>\n",
       "    <tr style=\"text-align: right;\">\n",
       "      <th></th>\n",
       "      <th>OBITO</th>\n",
       "      <th>Total</th>\n",
       "      <th>Porcentagem</th>\n",
       "    </tr>\n",
       "  </thead>\n",
       "  <tbody>\n",
       "    <tr>\n",
       "      <th>0</th>\n",
       "      <td>0</td>\n",
       "      <td>169695</td>\n",
       "      <td>96.819746</td>\n",
       "    </tr>\n",
       "    <tr>\n",
       "      <th>1</th>\n",
       "      <td>1</td>\n",
       "      <td>5574</td>\n",
       "      <td>3.180254</td>\n",
       "    </tr>\n",
       "  </tbody>\n",
       "</table>\n",
       "</div>"
      ],
      "text/plain": [
       "   OBITO   Total  Porcentagem\n",
       "0      0  169695    96.819746\n",
       "1      1    5574     3.180254"
      ]
     },
     "execution_count": 10,
     "metadata": {},
     "output_type": "execute_result"
    }
   ],
   "source": [
    "get_ratios(y_test_)"
   ]
  },
  {
   "cell_type": "markdown",
   "metadata": {
    "cell_id": "00012-158fbedf-c4a4-40ff-aabd-00d31257f6ba",
    "deepnote_cell_type": "markdown"
   },
   "source": [
    "### 1.4 Teste com dados balanceados"
   ]
  },
  {
   "cell_type": "code",
   "execution_count": 11,
   "metadata": {
    "cell_id": "00017-fc1f5549-ca24-4bfb-8b13-52b592970ceb",
    "deepnote_cell_type": "code",
    "deepnote_to_be_reexecuted": false,
    "execution_millis": 12,
    "execution_start": 1624482686212,
    "source_hash": "1170269f",
    "tags": []
   },
   "outputs": [],
   "source": [
    "from sklearn.metrics import precision_recall_curve\n",
    "from sklearn.metrics import plot_precision_recall_curve, roc_curve, auc\n",
    "\n",
    "\n",
    "# balanceamento\n",
    "from imblearn.under_sampling import RandomUnderSampler\n",
    "from imblearn.pipeline import make_pipeline\n",
    "from sklearn.pipeline import Pipeline \n",
    "from statistics import mean, stdev\n",
    "from collections import Counter\n",
    "\n",
    "def print_metric(results, name):\n",
    "    media = np.mean(results)\n",
    "    desvio_padrao = np.std(results)\n",
    "    print(f\"{name} \", end='')\n",
    "    print(\"médio: %.3f | intervalo: [%.3f, %.3f]\" % ((media), (media - 2 * desvio_padrao), (media + 2 * desvio_padrao)))"
   ]
  },
  {
   "cell_type": "code",
   "execution_count": 12,
   "metadata": {
    "cell_id": "00016-119e9aa1-179b-4d70-93d2-9b5323620557",
    "deepnote_cell_type": "code",
    "deepnote_to_be_reexecuted": false,
    "execution_millis": 53389,
    "execution_start": 1624411573778,
    "source_hash": "9c15eb46"
   },
   "outputs": [
    {
     "name": "stdout",
     "output_type": "stream",
     "text": [
      "===============\n",
      "Random Forest Classifier - ORIGINAL\n",
      "AUC-ROC médio: 0.705 | intervalo: [0.694, 0.716]\n",
      "PRECISÃO médio: 0.558 | intervalo: [0.543, 0.572]\n",
      "REVOCAÇÃO médio: 0.422 | intervalo: [0.399, 0.444]\n",
      "F1 SCORE médio: 0.480 | intervalo: [0.465, 0.495]\n",
      "AUC médio: nan | intervalo: [nan, nan]\n",
      "[[78269   921]\n",
      " [ 1461  1140]]\n",
      "===============\n",
      "Random Forest Classifier - BALANCEADO\n",
      "AUC-ROC médio: 0.969 | intervalo: [0.968, 0.970]\n",
      "PRECISÃO médio: 0.364 | intervalo: [0.361, 0.368]\n",
      "REVOCAÇÃO médio: 0.995 | intervalo: [0.992, 0.998]\n",
      "F1 SCORE médio: 0.533 | intervalo: [0.530, 0.537]\n",
      "AUC médio: nan | intervalo: [nan, nan]\n",
      "[[74647  4543]\n",
      " [    7  2594]]\n"
     ]
    },
    {
     "data": {
      "image/png": "[encoded data removed]",
      "text/plain": [
       "<Figure size 1440x720 with 4 Axes>"
      ]
     },
     "metadata": {
      "needs_background": "light"
     },
     "output_type": "display_data"
    },
    {
     "name": "stdout",
     "output_type": "stream",
     "text": [
      "===============\n"
     ]
    }
   ],
   "source": [
    "# initial parameters\n",
    "SEED = 777\n",
    "K_FOLD = 5\n",
    "\n",
    "models = [RandomForestClassifier(random_state=SEED)]\n",
    "verbose_models = ['Random Forest Classifier']\n",
    "\n",
    "\n",
    "#undersampler\n",
    "rus = RandomUnderSampler(random_state=SEED)\n",
    "\n",
    "plt.rcParams.update({'font.size': 20})\n",
    "\n",
    "for name, model in zip(verbose_models, models):\n",
    "    print(\"===============\")\n",
    "    print(name + \" - ORIGINAL\")\n",
    "    \n",
    "    auc_roc = []\n",
    "    precision = []\n",
    "    recall = []\n",
    "    f1score = []\n",
    "    aucscore = []\n",
    "    # kfold\n",
    "    kf = StratifiedKFold(n_splits=K_FOLD, shuffle=True, random_state=SEED)\n",
    "\n",
    "    # percorre cada fold      \n",
    "    for train_index, test_index in kf.split(X, y):\n",
    "        # divisao treino e teste\n",
    "        X_train, X_test = X.loc[train_index], X.loc[test_index]\n",
    "        y_train, y_test = y[train_index], y[test_index]\n",
    "\n",
    "        # treino e predicao\n",
    "        y_pred = model.fit(X_train, y_train).predict(X_test)\n",
    "\n",
    "        # computacao da metrica\n",
    "        auc_roc.append(roc_auc_score(y_test, y_pred))\n",
    "        fpr, tpr, thresholds = roc_curve(y_test, y_pred, pos_label=2)\n",
    "        aucscore.append(auc(fpr, tpr))\n",
    "        precision.append(precision_score(y_test, y_pred))\n",
    "        recall.append(recall_score(y_test, y_pred))\n",
    "        f1score.append(f1_score(y_test, y_pred))\n",
    "        \n",
    "\n",
    "    print_metric(auc_roc, 'AUC-ROC')\n",
    "    print_metric(precision, 'PRECISÃO')\n",
    "    print_metric(recall, 'REVOCAÇÃO')\n",
    "    print_metric(f1score, 'F1 SCORE')\n",
    "    print_metric(aucscore, 'AUC')\n",
    "    print(confusion_matrix(y_test, y_pred))\n",
    "\n",
    "    # MATRIZ DE CONFUSAO\n",
    "    fig, (ax1, ax2) = plt.subplots(1, 2, figsize=(20, 10))\n",
    "    #fig, ax2 = plt.subplots(figsize=(10, 10))\n",
    "    \n",
    "    #plot_confusion_matrix_edit(model, X_test_, y_test_, values_format= '.2%', normalize='true', \n",
    "      #                display_labels=['Recuperado', 'Óbito'], ax=ax1, colorbar=False); \n",
    "\n",
    "    print(\"===============\")\n",
    "\n",
    "    auc_roc = []\n",
    "    precision = []\n",
    "    recall = []\n",
    "    f1score = []\n",
    "    aucscore = []\n",
    "\n",
    "    # kfold\n",
    "    kf = StratifiedKFold(n_splits=K_FOLD, shuffle=True, random_state=SEED)\n",
    "\n",
    "    print(name + \" - BALANCEADO\")\n",
    "    \n",
    "    # pipeline do modelo\n",
    "    pipeline = make_pipeline(rus, model)\n",
    "    \n",
    "    for train_index, test_index in kf.split(X,y):\n",
    "        # divisao treino e teste\n",
    "        X_train, X_test = X.loc[train_index], X.loc[test_index]\n",
    "        y_train, y_test = y[train_index], y[test_index]\n",
    "\n",
    "        # treino e predicao\n",
    "        y_pred = pipeline.fit(X_train, y_train).predict(X_test)\n",
    "\n",
    "        # computacao da metrica\n",
    "        auc_roc.append(roc_auc_score(y_test, y_pred))\n",
    "        fpr, tpr, thresholds = roc_curve(y_test, y_pred, pos_label=2)\n",
    "        aucscore.append(auc(fpr, tpr))\n",
    "        \n",
    "        precision.append(precision_score(y_test, y_pred))\n",
    "        recall.append(recall_score(y_test, y_pred))\n",
    "        f1score.append(f1_score(y_test, y_pred))\n",
    "\n",
    "    print_metric(auc_roc, 'AUC-ROC')\n",
    "    print_metric(precision, 'PRECISÃO')\n",
    "    print_metric(recall, 'REVOCAÇÃO')\n",
    "    print_metric(f1score, 'F1 SCORE')\n",
    "    print_metric(aucscore, 'AUC')\n",
    "    print(confusion_matrix(y_test, y_pred))  \n",
    "\n",
    "    plot_confusion_matrix_edit(model, X_test_, y_test_,\n",
    "                      display_labels=['Recuperado', 'Óbito'], ax=ax1, colorbar=True);\n",
    "\n",
    "    plot_confusion_matrix_edit(model, X_test_, y_test_, values_format= '.2%', normalize='true',\n",
    "                      display_labels=['Recuperado', 'Óbito'], ax=ax2, colorbar=True); \n",
    "\n",
    "    #ax2.title.set_text(f\"Matriz de confusão - {name} \\nSubamostragem\")\n",
    "    plt.tight_layout()\n",
    "    plt.show() \n",
    "\n",
    "    print(\"===============\")"
   ]
  },
  {
   "cell_type": "markdown",
   "metadata": {
    "cell_id": "00017-f58762d5-02ff-4359-94b4-762fcfe0f586",
    "deepnote_cell_type": "markdown",
    "tags": []
   },
   "source": [
    "# Otimização de hiperparâmetros"
   ]
  },
  {
   "cell_type": "code",
   "execution_count": 13,
   "metadata": {
    "cell_id": "00017-1e1803b3-b49b-4f34-bcfb-4ca5a5e5c956",
    "deepnote_cell_type": "code",
    "deepnote_to_be_reexecuted": false,
    "execution_millis": 1,
    "execution_start": 1624482692017,
    "source_hash": "9bd69a57",
    "tags": []
   },
   "outputs": [],
   "source": [
    "from imblearn.pipeline import Pipeline, make_pipeline\n",
    "from sklearn.model_selection import cross_val_score"
   ]
  },
  {
   "cell_type": "code",
   "execution_count": 14,
   "metadata": {
    "cell_id": "00018-88aaf8fe-cdef-4d54-a6e4-99d946236a80",
    "deepnote_cell_type": "code",
    "deepnote_to_be_reexecuted": false,
    "execution_millis": 4,
    "execution_start": 1624413261514,
    "source_hash": "5dd679fc",
    "tags": []
   },
   "outputs": [],
   "source": [
    "from sklearn.metrics import SCORERS"
   ]
  },
  {
   "cell_type": "code",
   "execution_count": 15,
   "metadata": {
    "cell_id": "00019-f9b1350b-8f09-4ea0-ad1f-4b0b88c6d3d0",
    "deepnote_cell_type": "code",
    "deepnote_to_be_reexecuted": false,
    "execution_millis": 13,
    "execution_start": 1624413265664,
    "source_hash": "c3ee074",
    "tags": []
   },
   "outputs": [
    {
     "data": {
      "text/plain": [
       "dict_keys(['explained_variance', 'r2', 'max_error', 'neg_median_absolute_error', 'neg_mean_absolute_error', 'neg_mean_absolute_percentage_error', 'neg_mean_squared_error', 'neg_mean_squared_log_error', 'neg_root_mean_squared_error', 'neg_mean_poisson_deviance', 'neg_mean_gamma_deviance', 'accuracy', 'top_k_accuracy', 'roc_auc', 'roc_auc_ovr', 'roc_auc_ovo', 'roc_auc_ovr_weighted', 'roc_auc_ovo_weighted', 'balanced_accuracy', 'average_precision', 'neg_log_loss', 'neg_brier_score', 'adjusted_rand_score', 'rand_score', 'homogeneity_score', 'completeness_score', 'v_measure_score', 'mutual_info_score', 'adjusted_mutual_info_score', 'normalized_mutual_info_score', 'fowlkes_mallows_score', 'precision', 'precision_macro', 'precision_micro', 'precision_samples', 'precision_weighted', 'recall', 'recall_macro', 'recall_micro', 'recall_samples', 'recall_weighted', 'f1', 'f1_macro', 'f1_micro', 'f1_samples', 'f1_weighted', 'jaccard', 'jaccard_macro', 'jaccard_micro', 'jaccard_samples', 'jaccard_weighted'])"
      ]
     },
     "execution_count": 15,
     "metadata": {},
     "output_type": "execute_result"
    }
   ],
   "source": [
    "SCORERS.keys()"
   ]
  },
  {
   "cell_type": "code",
   "execution_count": 16,
   "metadata": {
    "cell_id": "00019-ba746327-476d-45bc-bf3e-1e801fe9e868",
    "deepnote_cell_type": "code",
    "deepnote_to_be_reexecuted": false,
    "execution_millis": 8641,
    "execution_start": 1624413286213,
    "source_hash": "8bdf5e6"
   },
   "outputs": [],
   "source": [
    "\n",
    "# kfold\n",
    "kf = StratifiedKFold(n_splits=K_FOLD, shuffle=True, random_state=SEED)\n",
    "\n",
    "#undersampler\n",
    "rus = RandomUnderSampler(random_state=SEED)\n",
    "\n",
    "imba_pipeline = make_pipeline(rus, RandomForestClassifier(n_estimators=100, random_state=777))\n"
   ]
  },
  {
   "cell_type": "code",
   "execution_count": 17,
   "metadata": {
    "cell_id": "00019-b9815f2f-8c69-4ab6-a9f7-7fd5eeef1ff6",
    "deepnote_cell_type": "code",
    "deepnote_to_be_reexecuted": false,
    "execution_millis": 696320,
    "execution_start": 1624413307914,
    "source_hash": "7e642a60",
    "tags": []
   },
   "outputs": [],
   "source": [
    "params = {'n_estimators': [50, 100, 200, 400],\n",
    " 'max_depth': [4, 6, 10, 12, 15],\n",
    " 'random_state': [777]}\n",
    "\n",
    "new_params = {'randomforestclassifier__' + key: params[key] for key in params}\n",
    "grid_imba = GridSearchCV(imba_pipeline, param_grid=new_params, cv=kf, scoring='recall',\n",
    "                        return_train_score=True)\n",
    "grid_imba.fit(X, y);"
   ]
  },
  {
   "cell_type": "code",
   "execution_count": 18,
   "metadata": {
    "cell_id": "00020-f842059b-f38a-4e59-b538-1816349af429",
    "deepnote_cell_type": "code",
    "deepnote_to_be_reexecuted": false,
    "execution_millis": 1,
    "execution_start": 1624414031589,
    "source_hash": "759290db",
    "tags": []
   },
   "outputs": [
    {
     "data": {
      "text/plain": [
       "{'randomforestclassifier__max_depth': 4,\n",
       " 'randomforestclassifier__n_estimators': 100,\n",
       " 'randomforestclassifier__random_state': 777}"
      ]
     },
     "execution_count": 18,
     "metadata": {},
     "output_type": "execute_result"
    }
   ],
   "source": [
    "grid_imba.best_params_"
   ]
  },
  {
   "cell_type": "code",
   "execution_count": 19,
   "metadata": {
    "cell_id": "00024-a828a04e-41dd-43bb-b429-cde22219cf7c",
    "deepnote_cell_type": "code",
    "deepnote_to_be_reexecuted": false,
    "execution_millis": 6087,
    "execution_start": 1624482700319,
    "source_hash": "9913c1f",
    "tags": []
   },
   "outputs": [
    {
     "name": "stdout",
     "output_type": "stream",
     "text": [
      "ROC AUC médio: 0.981 | intervalo: [0.981, 0.982]\n"
     ]
    }
   ],
   "source": [
    "rus = RandomUnderSampler(random_state=777)\n",
    "# kfold\n",
    "kf = StratifiedKFold(n_splits=5, shuffle=True, random_state=777)\n",
    "\n",
    "imba_pipeline = make_pipeline(rus, RandomForestClassifier(max_depth=4, n_estimators=100, random_state=777))\n",
    "score = cross_val_score(imba_pipeline, X, y, scoring='roc_auc', cv=kf)\n",
    "print_metric(score, 'ROC AUC')"
   ]
  },
  {
   "cell_type": "code",
   "execution_count": 20,
   "metadata": {
    "cell_id": "00025-1197c26a-74a3-4a55-b912-8157340dc9b2",
    "deepnote_cell_type": "code",
    "deepnote_to_be_reexecuted": false,
    "execution_millis": 1707,
    "execution_start": 1624482706445,
    "source_hash": "51f75bb5",
    "tags": []
   },
   "outputs": [],
   "source": [
    "mdl = RandomForestClassifier(max_depth=4, n_estimators=100, random_state=777)\n",
    "\n",
    "X_rus, y_rus = rus.fit_resample(X, y)\n",
    "\n",
    "y_pred = mdl.fit(X_rus, y_rus).predict(X_test_)\n"
   ]
  },
  {
   "cell_type": "code",
   "execution_count": 21,
   "metadata": {
    "cell_id": "00025-61d3609e-7ace-435d-8a05-04e47a73358f",
    "deepnote_cell_type": "code",
    "deepnote_to_be_reexecuted": false,
    "execution_millis": 1758,
    "execution_start": 1624482978921,
    "source_hash": "ff3929a3",
    "tags": []
   },
   "outputs": [
    {
     "name": "stdout",
     "output_type": "stream",
     "text": [
      "0.9704027814608562\n",
      "[[159650  10045]\n",
      " [     0   5574]]\n"
     ]
    },
    {
     "data": {
      "image/png": "[encoded data removed]",
      "text/plain": [
       "<Figure size 720x720 with 1 Axes>"
      ]
     },
     "metadata": {
      "needs_background": "light"
     },
     "output_type": "display_data"
    }
   ],
   "source": [
    "print(roc_auc_score(y_test_, y_pred))\n",
    "print(confusion_matrix(y_test_, y_pred))\n",
    "\n",
    "plt.rcParams.update({'font.size': 22})\n",
    "\n",
    "fig, ax2 = plt.subplots(figsize=(10, 10))\n",
    "plot_confusion_matrix_edit(mdl, X_test_, y_test_, values_format= '.2%', normalize='true',\n",
    "                      display_labels=['Recuperado', 'Óbito'], ax=ax2, colorbar=False); \n",
    "\n",
    "#ax2.title.set_text(f\"Matriz de confusão - {name} \\nSubamostragem\")\n",
    "plt.tight_layout()\n",
    "plt.show() \n",
    "fig.savefig(\"imgs/confusion_matrix.png\")"
   ]
  },
  {
   "cell_type": "code",
   "execution_count": 22,
   "metadata": {
    "cell_id": "00027-2dbf3bec-c0a4-4a17-b3f9-0479ef52da99",
    "deepnote_cell_type": "code",
    "deepnote_to_be_reexecuted": false,
    "execution_millis": 3174,
    "execution_start": 1624459443037,
    "source_hash": "1d46dbe4",
    "tags": []
   },
   "outputs": [
    {
     "name": "stdout",
     "output_type": "stream",
     "text": [
      "ROC AUC médio: 0.981 | intervalo: [0.980, 0.982]\n"
     ]
    }
   ],
   "source": [
    "imba_pipeline = make_pipeline(rus, RandomForestClassifier(max_depth=4, n_estimators=100, random_state=777))\n",
    "score = cross_val_score(imba_pipeline, X_test_, y_test_, scoring='roc_auc', cv=kf)\n",
    "print_metric(score, 'ROC AUC')"
   ]
  },
  {
   "cell_type": "code",
   "execution_count": null,
   "metadata": {
    "cell_id": "00028-7cc10b33-3abd-4b03-84c1-90b683e42940",
    "deepnote_cell_type": "code",
    "tags": []
   },
   "outputs": [],
   "source": []
  }
 ],
 "metadata": {
  "deepnote": {},
  "deepnote_execution_queue": [],
  "deepnote_notebook_id": "338ba495-875c-434e-8c26-0ebf8763aab7",
  "kernelspec": {
   "display_name": "Python 3",
   "language": "python",
   "name": "python3"
  },
  "language_info": {
   "codemirror_mode": {
    "name": "ipython",
    "version": 3
   },
   "file_extension": ".py",
   "mimetype": "text/x-python",
   "name": "python",
   "nbconvert_exporter": "python",
   "pygments_lexer": "ipython3",
   "version": "3.6.9"
  }
 },
 "nbformat": 4,
 "nbformat_minor": 4
}
