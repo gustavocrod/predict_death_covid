{
 "cells": [
  {
   "cell_type": "markdown",
   "metadata": {},
   "source": [
    "## 0. Carregamento das bibliotecas"
   ]
  },
  {
   "cell_type": "code",
   "execution_count": 1,
   "metadata": {},
   "outputs": [],
   "source": [
    "# Manipulacao de dados\n",
    "import numpy as np\n",
    "import pandas as pd\n",
    "\n",
    "# Visualizacao de dados\n",
    "import matplotlib.pyplot as plt\n",
    "import missingno as msno\n",
    "import seaborn as sns\n",
    "import scikitplot as skplt\n",
    "\n",
    "# Machine learning \n",
    "from sklearn.svm import LinearSVC\n",
    "from sklearn.ensemble import RandomForestClassifier, GradientBoostingClassifier\n",
    "from sklearn.naive_bayes import GaussianNB\n",
    "from sklearn.linear_model import LinearRegression, LogisticRegression, Ridge, Lasso\n",
    "from sklearn.tree import DecisionTreeClassifier\n",
    "from sklearn.neural_network import MLPClassifier\n",
    "from sklearn.neighbors import KNeighborsClassifier\n",
    "from sklearn.ensemble import RandomForestClassifier\n",
    "from xgboost import XGBClassifier\n",
    "\n",
    "# balanceamento\n",
    "from imblearn.under_sampling import RandomUnderSampler\n",
    "\n",
    "# Grid e Random Search\n",
    "from sklearn.model_selection import GridSearchCV\n",
    "from sklearn.model_selection import RandomizedSearchCV\n",
    "from sklearn.model_selection import train_test_split\n",
    "\n",
    "# Metricas de avaliacao\n",
    "from sklearn.metrics import roc_curve, auc, roc_auc_score, accuracy_score, classification_report, confusion_matrix\n",
    "from sklearn.metrics import recall_score, precision_score, f1_score\n"
   ]
  },
  {
   "cell_type": "markdown",
   "metadata": {},
   "source": [
    "## 1. Carregamento dos dados\n",
    "\n",
    "Após ter os dados pré-processados, podemos começar a construir nosso modelo."
   ]
  },
  {
   "cell_type": "code",
   "execution_count": 2,
   "metadata": {},
   "outputs": [],
   "source": [
    "df = pd.read_csv(\"covid_11_marco_pre_process.csv\", sep=';')"
   ]
  },
  {
   "cell_type": "markdown",
   "metadata": {},
   "source": [
    "## 2. Treino e teste\n",
    "\n",
    "Antes de dividirmos nossos dados, vamos verificar o balanceamento dos mesmos.\n"
   ]
  },
  {
   "cell_type": "code",
   "execution_count": 3,
   "metadata": {},
   "outputs": [
    {
     "data": {
      "image/png": "[encoded data removed]",
      "text/plain": [
       "<Figure size 432x288 with 1 Axes>"
      ]
     },
     "metadata": {
      "needs_background": "light"
     },
     "output_type": "display_data"
    }
   ],
   "source": [
    "sns.countplot(y='OBITO', data=df, palette=\"magma\");"
   ]
  },
  {
   "cell_type": "code",
   "execution_count": 4,
   "metadata": {},
   "outputs": [
    {
     "data": {
      "text/plain": [
       "2.0997171852101433"
      ]
     },
     "execution_count": 4,
     "metadata": {},
     "output_type": "execute_result"
    }
   ],
   "source": [
    "(df['OBITO'].sum()/df.shape[0]) * 100"
   ]
  },
  {
   "cell_type": "markdown",
   "metadata": {},
   "source": [
    "Podemos ver que o nosso conjunto de dados está desbalanceado. Mais precisamente, apenas 13.47% dos dados são Óbitos. Se construíssemos um modelo preditivo que classificasse os dados apenas como 0 (Recuperado), teríamos um modelo com 86.53% de acurácia. Queremos evitar esse \"comportamento ingênuo\".\n",
    "\n",
    "#### 2.1 Como lidar com dados desbalanceados\n",
    "\n",
    "Alguns exemplos de situações onde o desbalanceamento é quase certo são problemas de detecção de fraude e diagnóstico médicos - é intuitivo pensar que existem mais transações lícitas que criminosas, ou que o conjunto de pessoas diagnosticadas com câncer é bem menor que o conjunto de pessoas sem a doença.\n",
    "\n",
    "Ignorar esse fato e treinar um algoritmo em cima do conjunto de dados original, pulando uma etapa intermediária de balanceamento dos dados, pode ter impactos diretos no seu projeto de Data Science.\n",
    "\n",
    "#### 2.2 Consequências dos dados desbalanceados\n",
    "Se você está construindo um modelo de machine learning para classificação, por exemplo, a consequência desse desequilíbrio é que o modelo terá uma tendência a dar muitos \"alarmes falsos\".\n",
    "\n",
    "Ou seja, na prática ele irá responder muito bem entradas para as classes majoritárias, mas terá um desempenho inferior para as minoriárias.\n",
    "\n",
    "No exemplo de detecção de fraude com cartões de crédito (onde o número de transações financeiras normais é bem maior que o número de transações fraudulentas), um classificador tenderá a apresentar muitos falsos negativos - uma situação indesejável para um banco, obviamente.\n",
    "\n",
    "Em um trade-off, seria preferível \"errar para mais\" e ter uma quantidade maior de falsos positivos. Aliás, aposto que você já teve seu cartão bloqueado preventivamente e teve que ligar no banco para confirmar as últimas compras que havia feito, não é mesmo?!\n",
    "\n",
    "Teoricamente, um dataset que possua qualquer classe com mais de 50% das entradas já é considerado desbalanceado. No entanto, há situações extremas onde você vai encontrar proporções maiores que 99:1.\n",
    "\n",
    "Existem várias abordagens para lidar com dados desbalanceados, cada uma com seus prós e contras. Neste artigo, irei mostrar alguns dos métodos mais populares para você incluir desde já no seu arsenal.\n",
    "\n",
    "#### 2.3 Métodos para lidar com datasets desbalanceados\n",
    "\n",
    "Há diversas maneiras para atacar o problema de dados desbalanceados, que envolvem desde a construção de algoritmos específicos até a aplicação de algoritmos mais avançados como Recognition-based Learning e Cost-sensitive Learning.\n",
    "\n",
    "No entanto, uma outra abordagem bem mais simples tem sido amplamente usada (com ótimos resultados), a abordagem *sampling*.\n",
    "\n",
    "*Sampling* é um pré-processamento que visa minimizar as discrepâncias entre as classes por meio de uma reamostragem do dataset original. Para gerar um conjunto balanceado, são usadas normalmente as seguintes técnicas:\n",
    "\n",
    " - Over-sampling: cria novas observações da classe minoritária a partir das informações contidas nos dados originais. Essa geração de novas entradas pode ser feita aleatoriamente com o auxílio de técnicas de clustering ou sinteticamente.\n",
    "\n",
    " - Under-sampling: reduz o desbalanceamento do dataset focando na classe majoritária. Ou seja, elimina aleatoriamente entradas da classe com maior número de ocorrências.\n",
    "\n",
    "Além dessas duas técnicas de *sampling*, existem também os advanced sampling methods, como SMOTE e ADASYN, onde instâncias são adicionadas ou removidas adaptativamente.\n",
    "\n",
    "Para isso, podemos usar abordagens que levam em conta apenas a avaliação do modelo, ou técnicas para rebalanceamento como a **undersampling**, que consiste em reamostrar a classe majoritária (nesse caso, recuperado) e manter apenas uma parte desses pontos.\n",
    "\n",
    "![under sampling](resampling.png)\n",
    "\n",
    "#### *tradeoff*\n",
    "Ao usar um método de reamostragem (por exemplo, para obter tantos dados de ÓBITO quanto de RECUPERADOS), mostramos as proporções erradas das duas classes para o classificador durante o treinamento. O classificador treinado dessa maneira terá uma precisão menor nos dados de teste reais futuros do que o classificador treinado no conjunto de dados inalterado. Na verdade, as verdadeiras proporções das classes são importantes para saber para classificar um novo ponto e essa informação foi perdida ao reamostrar o conjunto de dados. \n",
    "\n",
    "- [Handling imbalanced datasets in machine learning](https://towardsdatascience.com/handling-imbalanced-datasets-in-machine-learning-7a0e84220f28)\n",
    "- [Learning pattern classification tasks with imbalanced data sets](https://ro.uow.edu.au/cgi/viewcontent.cgi?referer=https://www.google.com/&httpsredir=1&article=1806&context=infopapers)\n",
    "- [There is No Free Lunch in Data Science](https://www.kdnuggets.com/2019/09/no-free-lunch-data-science.html)"
   ]
  },
  {
   "cell_type": "markdown",
   "metadata": {},
   "source": [
    "#### 2.3 Divisão treino e teste e balanceamento\n",
    "\n",
    "Vamos utilizar o `train_test_split` com 30% dos dados para test, e random_state em 42, para replicabilidade do código.\n",
    "\n",
    "Para balanceamento, utilizaremo do `RandomUnderSampler` do imblearn.\n"
   ]
  },
  {
   "cell_type": "code",
   "execution_count": 5,
   "metadata": {},
   "outputs": [],
   "source": [
    "X_train, X_test, y_train, y_test = train_test_split(df.drop('OBITO', axis=1), df['OBITO'], test_size=0.3, random_state=42)"
   ]
  },
  {
   "cell_type": "code",
   "execution_count": 6,
   "metadata": {},
   "outputs": [],
   "source": [
    "rus = RandomUnderSampler()\n",
    "X_train_rus, y_train_rus = rus.fit_resample(X_train, y_train)"
   ]
  },
  {
   "cell_type": "code",
   "execution_count": 7,
   "metadata": {},
   "outputs": [
    {
     "name": "stderr",
     "output_type": "stream",
     "text": [
      "/home/gustavocrod/.local/lib/python3.6/site-packages/seaborn/_decorators.py:43: FutureWarning: Pass the following variable as a keyword arg: x. From version 0.12, the only valid positional argument will be `data`, and passing other arguments without an explicit keyword will result in an error or misinterpretation.\n",
      "  FutureWarning\n"
     ]
    },
    {
     "data": {
      "image/png": "[encoded data removed]",
      "text/plain": [
       "<Figure size 432x288 with 1 Axes>"
      ]
     },
     "metadata": {
      "needs_background": "light"
     },
     "output_type": "display_data"
    }
   ],
   "source": [
    "sns.countplot(y_train_rus, palette='magma');"
   ]
  },
  {
   "cell_type": "markdown",
   "metadata": {},
   "source": [
    "# 3.Algoritmos de aprendizagem de máquina\n",
    "\n",
    "Vamos utilizar esses algoritmos:\n",
    "\n",
    " - Logistic Regression\n",
    " - Random Forest\n",
    " - Naive Bayes\n",
    " - Stochastic Gradient Decent\n",
    " - Linear SVC\n",
    " - Decision Tree\n",
    " - Gradient Boosted Trees\n",
    "\n",
    "## 3.0 Métricas de avaliação\n",
    "\n",
    "Como saber se meu modelo previu bem? Como saber se ele prevê bem a classe que queremos (Óbito)? Essas e outras questões podemos entender com as matrizes de confusão.\n",
    "\n",
    "#### Matriz de confusão\n",
    "\n",
    "![Matriz de confusao](confusion_matrix.png)\n",
    "\n",
    "É uma tabela que mostra as frequências de classificação para cada classe do modelo. Ou seja, ela mostra a quantidade de acertos e erros do modelo, e nos mostra as frequências:\n",
    "\n",
    " - **Verdadeiro positivo** (*true positive* - TP): ocorre quando no conjunto real, a classe que estamos buscando foi prevista corretamente. Por exemplo, quando o paciente veio a óbito e o modelo previu corretamente que ele veio a falecer. \n",
    " - **Falso positivo** (*false positive* - FP): ocorre quando no conjunto real, a classe que estamos buscando prever foi prevista incorretamente. Exemplo: O paciente foi recuperado, mas o modelo disse que ele veio a óbito\n",
    " - **Verdadeiro negativo** (*true negative* - TN): ocorre quando no conjunto real, a classe que não estamos buscando prever foi prevista corretamente. Exemplo: o paciente foi recuperado, e o modelo previu corretamente que ele não veio a óbito.\n",
    " - **Falso negativo** (*false negative* - FN): ocorre quando no conjunto real, a classe que não estamos buscando prever foi prevista incorretamente. Por exemplo, quando o paciente era óbito, e o modelo previu que seria recuperado.\n",
    " \n",
    " \n",
    "Através desses quatro valores, seremos capazes de calcular os indicadores: Acurácia, Precisão, Revocação (sensibilidade ou *recall*) e F1 Score.\n",
    "\n",
    "#### Métricas de avaliação decorrentes da matriz de confusão\n",
    "\n",
    " **Acurácia**\n",
    " Indica uma performance geral do modelo. Dentre todas as classificações, quantas o modelo classificou corretamente;\n",
    "  \n",
    " $acuracia = \\frac{TP + TN}{TP + FP + TN + FN} = \\frac{predicoes corretas}{todasaspredicoes}$\n",
    " \n",
    " é uma boa indicação geral de como o modelo performou. Porém, pode haver situações em que ela é enganosa. Por exemplo, na criação de um modelo de identificação de fraudes em cartões de crédito, o número de casos considerados como fraude pode ser bem pequeno em relação ao número de casos considerados legais. Para colocar em números, em uma situação hipotética de 280000 casos legais e 2000 casos fraudulentos, um modelo simplório que simplesmente classifica tudo como legal obteria uma acurácia de 99,3%. Ou seja, você estaria validando como ótimo um modelo que falha em detectar fraudes.\n",
    " \n",
    " \n",
    " **Precisão** (Valor preditivo positivo)\n",
    " Entre todas as classificações de classe Positivo que o modelo fez, quantas estão corretas; ( precisão de 1.0 ou 100% significa que não houve nenhum falso positivo.)\n",
    " \n",
    " $precisao = \\frac{TP}{TP + FP}$\n",
    "  \n",
    " A precisão pode ser usada em uma situação em que os Falsos Positivos são considerados mais prejudiciais que os Falsos Negativos. Por exemplo, ao classificar uma ação como um bom investimento, é necessário que o modelo esteja correto, mesmo que acabe classificando bons investimentos como maus investimentos (situação de Falso Negativo) no processo. Ou seja, o modelo deve ser preciso em suas classificações, pois a partir do momento que consideramos um investimento bom quando na verdade ele não é, uma grande perda de dinheiro pode acontecer.\n",
    " \n",
    " **Sensibilidade/*recall***\n",
    " \n",
    " Dentre todas as situações de classe Positivo como valor esperado, quantas estão corretas; (recall de 1.0 ou 100% significa que não houve nenhum falso negativo.)\n",
    " \n",
    " $sensibilidade = \\frac{TP}{TP + FN}$\n",
    " \n",
    " Pode ser usada em uma situação em que os Falsos Negativos são considerados mais prejudiciais que os Falsos Positivos. Por exemplo, o modelo deve de qualquer maneira encontrar todos os pacientes doentes, mesmo que classifique alguns saudáveis como doentes (situação de Falso Positivo) no processo. Ou seja, o modelo deve ter alto *recall* (sensibilidade), pois classificar pacientes doentes como saudáveis pode ser uma tragédia.\n",
    " \n",
    " **F1 Score**\n",
    " média harmônica entre precisão e sensibilidade.\n",
    " \n",
    " $f1score = 2 * \\frac{precisao * sensibilidade}{precisao + sensibilidade}$\n",
    " \n",
    " é simplesmente uma maneira de observar somente 1 métrica ao invés de duas (precisão e recall) em alguma situação. É uma média harmônica entre as duas, que está muito mais próxima dos menores valores do que uma média aritmética simples. Ou seja, quando tem-se um F1-Score baixo, é um indicativo de que ou a precisão ou o recall está baixo.\n",
    "\n",
    " "
   ]
  },
  {
   "cell_type": "code",
   "execution_count": 8,
   "metadata": {},
   "outputs": [],
   "source": [
    "def run_model(model, X_train, y_train):\n",
    "    # fazer as previsões em cima dos dados de teste\n",
    "    model.fit(X_train, y_train)\n",
    "    y_pred = model.predict(X_test)\n",
    "    if (isinstance(model, LinearSVC)):\n",
    "        y_proba=0\n",
    "        return y_pred, y_proba\n",
    "    y_proba = model.predict_proba(X_test)\n",
    "    return y_pred, y_proba"
   ]
  },
  {
   "cell_type": "code",
   "execution_count": 9,
   "metadata": {},
   "outputs": [
    {
     "name": "stderr",
     "output_type": "stream",
     "text": [
      "/home/gustavocrod/.local/lib/python3.6/site-packages/sklearn/svm/_base.py:986: ConvergenceWarning: Liblinear failed to converge, increase the number of iterations.\n",
      "  \"the number of iterations.\", ConvergenceWarning)\n",
      "/home/gustavocrod/.local/lib/python3.6/site-packages/xgboost/sklearn.py:888: UserWarning: The use of label encoder in XGBClassifier is deprecated and will be removed in a future release. To remove this warning, do the following: 1) Pass option use_label_encoder=False when constructing XGBClassifier object; and 2) Encode your labels (y) as integers starting with 0, i.e. 0, 1, 2, ..., [num_class - 1].\n",
      "  warnings.warn(label_encoder_deprecation_msg, UserWarning)\n"
     ]
    },
    {
     "name": "stdout",
     "output_type": "stream",
     "text": [
      "[20:21:03] WARNING: ../src/learner.cc:1061: Starting in XGBoost 1.3.0, the default evaluation metric used with the objective 'binary:logistic' was changed from 'error' to 'logloss'. Explicitly set eval_metric if you'd like to restore the old behavior.\n"
     ]
    }
   ],
   "source": [
    "models = [LogisticRegression(max_iter=1000), \n",
    "          DecisionTreeClassifier(), \n",
    "          KNeighborsClassifier(n_neighbors = 5), \n",
    "          GaussianNB(), \n",
    "          LinearSVC(), \n",
    "          RandomForestClassifier(), \n",
    "          MLPClassifier(),\n",
    "          XGBClassifier()]\n",
    "\n",
    "verbose_models = ['Regressão logística', 'Árvore de decisão', 'KNN', \n",
    "                  'Naive Bayes Gaussiano', 'Linear SVM', 'Floresta aleatória', \n",
    "                  'Multilayer perceptron', 'XGBoost']\n",
    "\n",
    "accuracy_dict = {}\n",
    "roc_auc_dict = {}\n",
    "precision_dict = {}\n",
    "recall_dict = {}\n",
    "f1_score_dict = {}\n",
    "for name, model in zip(verbose_models, models):\n",
    "    y_pred, y_proba = run_model(model, X_train, y_train)\n",
    "    accuracy_dict[name] = accuracy_score(y_test, y_pred)\n",
    "    roc_auc_dict[name] = roc_auc_score(y_test, y_pred)\n",
    "    precision_dict[name] = precision_score(y_test, y_pred) \n",
    "    recall_dict[name] = recall_score(y_test, y_pred)\n",
    "    f1_score_dict[name] = f1_score(y_test, y_pred)"
   ]
  },
  {
   "cell_type": "code",
   "execution_count": 10,
   "metadata": {},
   "outputs": [],
   "source": [
    "metrics = pd.DataFrame.from_dict(accuracy_dict, orient='index', columns=['Acurácia'])\n",
    "metrics = metrics.join(pd.DataFrame.from_dict(roc_auc_dict, orient='index', columns=['ROC AUC']))\n",
    "metrics = metrics.join(pd.DataFrame.from_dict(precision_dict, orient='index', columns=['Precisão']))\n",
    "metrics = metrics.join(pd.DataFrame.from_dict(recall_dict, orient='index', columns=['Sensibilidade']))\n",
    "metrics = metrics.join(pd.DataFrame.from_dict(f1_score_dict, orient='index', columns=['F1-Score']))"
   ]
  },
  {
   "cell_type": "code",
   "execution_count": 11,
   "metadata": {},
   "outputs": [
    {
     "data": {
      "text/html": [
       "<div>\n",
       "<style scoped>\n",
       "    .dataframe tbody tr th:only-of-type {\n",
       "        vertical-align: middle;\n",
       "    }\n",
       "\n",
       "    .dataframe tbody tr th {\n",
       "        vertical-align: top;\n",
       "    }\n",
       "\n",
       "    .dataframe thead th {\n",
       "        text-align: right;\n",
       "    }\n",
       "</style>\n",
       "<table border=\"1\" class=\"dataframe\">\n",
       "  <thead>\n",
       "    <tr style=\"text-align: right;\">\n",
       "      <th></th>\n",
       "      <th>Acurácia</th>\n",
       "      <th>ROC AUC</th>\n",
       "      <th>Precisão</th>\n",
       "      <th>Sensibilidade</th>\n",
       "      <th>F1-Score</th>\n",
       "    </tr>\n",
       "  </thead>\n",
       "  <tbody>\n",
       "    <tr>\n",
       "      <th>Regressão logística</th>\n",
       "      <td>0.980182</td>\n",
       "      <td>0.632749</td>\n",
       "      <td>0.550753</td>\n",
       "      <td>0.270193</td>\n",
       "      <td>0.362532</td>\n",
       "    </tr>\n",
       "    <tr>\n",
       "      <th>Árvore de decisão</th>\n",
       "      <td>0.980346</td>\n",
       "      <td>0.619191</td>\n",
       "      <td>0.567522</td>\n",
       "      <td>0.242316</td>\n",
       "      <td>0.339623</td>\n",
       "    </tr>\n",
       "    <tr>\n",
       "      <th>KNN</th>\n",
       "      <td>0.977891</td>\n",
       "      <td>0.679850</td>\n",
       "      <td>0.462366</td>\n",
       "      <td>0.368835</td>\n",
       "      <td>0.410338</td>\n",
       "    </tr>\n",
       "    <tr>\n",
       "      <th>Naive Bayes Gaussiano</th>\n",
       "      <td>0.946658</td>\n",
       "      <td>0.828066</td>\n",
       "      <td>0.237449</td>\n",
       "      <td>0.704313</td>\n",
       "      <td>0.355160</td>\n",
       "    </tr>\n",
       "    <tr>\n",
       "      <th>Linear SVM</th>\n",
       "      <td>0.979655</td>\n",
       "      <td>0.562173</td>\n",
       "      <td>0.553702</td>\n",
       "      <td>0.126519</td>\n",
       "      <td>0.205974</td>\n",
       "    </tr>\n",
       "    <tr>\n",
       "      <th>Floresta aleatória</th>\n",
       "      <td>0.980366</td>\n",
       "      <td>0.624798</td>\n",
       "      <td>0.565287</td>\n",
       "      <td>0.253753</td>\n",
       "      <td>0.350271</td>\n",
       "    </tr>\n",
       "    <tr>\n",
       "      <th>Multilayer perceptron</th>\n",
       "      <td>0.980395</td>\n",
       "      <td>0.631343</td>\n",
       "      <td>0.563317</td>\n",
       "      <td>0.267096</td>\n",
       "      <td>0.362373</td>\n",
       "    </tr>\n",
       "    <tr>\n",
       "      <th>XGBoost</th>\n",
       "      <td>0.980460</td>\n",
       "      <td>0.626479</td>\n",
       "      <td>0.569995</td>\n",
       "      <td>0.257088</td>\n",
       "      <td>0.354351</td>\n",
       "    </tr>\n",
       "  </tbody>\n",
       "</table>\n",
       "</div>"
      ],
      "text/plain": [
       "                       Acurácia   ROC AUC  Precisão  Sensibilidade  F1-Score\n",
       "Regressão logística    0.980182  0.632749  0.550753       0.270193  0.362532\n",
       "Árvore de decisão      0.980346  0.619191  0.567522       0.242316  0.339623\n",
       "KNN                    0.977891  0.679850  0.462366       0.368835  0.410338\n",
       "Naive Bayes Gaussiano  0.946658  0.828066  0.237449       0.704313  0.355160\n",
       "Linear SVM             0.979655  0.562173  0.553702       0.126519  0.205974\n",
       "Floresta aleatória     0.980366  0.624798  0.565287       0.253753  0.350271\n",
       "Multilayer perceptron  0.980395  0.631343  0.563317       0.267096  0.362373\n",
       "XGBoost                0.980460  0.626479  0.569995       0.257088  0.354351"
      ]
     },
     "execution_count": 11,
     "metadata": {},
     "output_type": "execute_result"
    }
   ],
   "source": [
    "metrics"
   ]
  },
  {
   "cell_type": "code",
   "execution_count": 12,
   "metadata": {},
   "outputs": [],
   "source": [
    "metrics.index.rename('Modelo', inplace=True)\n",
    "metrics.reset_index(inplace=True)\n",
    "df = metrics.melt('Modelo', var_name='Métrica',  value_name='Score')"
   ]
  },
  {
   "cell_type": "code",
   "execution_count": 13,
   "metadata": {},
   "outputs": [
    {
     "data": {
      "image/png": "[encoded data removed]",
      "text/plain": [
       "<Figure size 1440x576 with 1 Axes>"
      ]
     },
     "metadata": {
      "needs_background": "light"
     },
     "output_type": "display_data"
    }
   ],
   "source": [
    "plt.rc('figure', figsize=(20, 8))\n",
    "ax = sns.barplot(x='Modelo', y='Score', hue='Métrica', data=df, palette='Paired')\n",
    "\n",
    "def show_values_on_bars(axs):\n",
    "    def _show_on_single_plot(ax):        \n",
    "        for p in ax.patches:\n",
    "            _x = p.get_x() + p.get_width() / 2 # divide por 2 pra ficar no meio\n",
    "            _y = p.get_y() + p.get_height()+ 0.01 # mais 0.01 pra nao ficar colado na altura da barra\n",
    "            value = '{:.2f}'.format(p.get_height())\n",
    "            ax.text(_x, _y, value, ha=\"center\", fontsize=10, color='black',) \n",
    "\n",
    "    if isinstance(axs, np.ndarray):\n",
    "        for idx, ax in np.ndenumerate(axs):\n",
    "            _show_on_single_plot(ax)\n",
    "    else:\n",
    "        _show_on_single_plot(axs)\n",
    "        \n",
    "show_values_on_bars(ax)\n",
    "\n",
    "ax.set_title('Score de cada modelo de machine learning por métrica de avaliação', fontsize=18, pad=30);\n",
    "ax.set_ylabel('Score', fontsize=14)\n",
    "ax.set_xlabel('')\n",
    "\n",
    "ax.tick_params(axis='both', which='major', labelsize=12)\n",
    "plt.legend(bbox_to_anchor=(1, 1),borderaxespad=0);"
   ]
  },
  {
   "cell_type": "code",
   "execution_count": 14,
   "metadata": {},
   "outputs": [
    {
     "name": "stderr",
     "output_type": "stream",
     "text": [
      "/home/gustavocrod/.local/lib/python3.6/site-packages/sklearn/svm/_base.py:986: ConvergenceWarning: Liblinear failed to converge, increase the number of iterations.\n",
      "  \"the number of iterations.\", ConvergenceWarning)\n",
      "/home/gustavocrod/.local/lib/python3.6/site-packages/xgboost/sklearn.py:888: UserWarning: The use of label encoder in XGBClassifier is deprecated and will be removed in a future release. To remove this warning, do the following: 1) Pass option use_label_encoder=False when constructing XGBClassifier object; and 2) Encode your labels (y) as integers starting with 0, i.e. 0, 1, 2, ..., [num_class - 1].\n",
      "  warnings.warn(label_encoder_deprecation_msg, UserWarning)\n"
     ]
    },
    {
     "name": "stdout",
     "output_type": "stream",
     "text": [
      "[20:21:33] WARNING: ../src/learner.cc:1061: Starting in XGBoost 1.3.0, the default evaluation metric used with the objective 'binary:logistic' was changed from 'error' to 'logloss'. Explicitly set eval_metric if you'd like to restore the old behavior.\n"
     ]
    }
   ],
   "source": [
    "models = [LogisticRegression(max_iter=1000), \n",
    "          DecisionTreeClassifier(), \n",
    "          KNeighborsClassifier(n_neighbors = 5), \n",
    "          GaussianNB(), \n",
    "          LinearSVC(), \n",
    "          RandomForestClassifier(), \n",
    "          MLPClassifier(),\n",
    "          XGBClassifier()]\n",
    "\n",
    "verbose_models = ['Regressão logística', 'Árvore de decisão', 'KNN', \n",
    "                  'Naive Bayes Gaussiano', 'Linear SVM', 'Floresta aleatória', \n",
    "                  'Multilayer perceptron', 'XGBoost']\n",
    "\n",
    "accuracy_dict = {}\n",
    "roc_auc_dict = {}\n",
    "precision_dict = {}\n",
    "recall_dict = {}\n",
    "f1_score_dict = {}\n",
    "for name, model in zip(verbose_models, models):\n",
    "    y_pred, y_proba = run_model(model, X_train_rus, y_train_rus)\n",
    "    accuracy_dict[name] = accuracy_score(y_test, y_pred)\n",
    "    roc_auc_dict[name] = roc_auc_score(y_test, y_pred)\n",
    "    precision_dict[name] = precision_score(y_test, y_pred) \n",
    "    recall_dict[name] = recall_score(y_test, y_pred)\n",
    "    f1_score_dict[name] = f1_score(y_test, y_pred)"
   ]
  },
  {
   "cell_type": "code",
   "execution_count": 15,
   "metadata": {},
   "outputs": [],
   "source": [
    "metrics = pd.DataFrame.from_dict(accuracy_dict, orient='index', columns=['Acurácia'])\n",
    "metrics = metrics.join(pd.DataFrame.from_dict(roc_auc_dict, orient='index', columns=['ROC AUC']))\n",
    "metrics = metrics.join(pd.DataFrame.from_dict(precision_dict, orient='index', columns=['Precisão']))\n",
    "metrics = metrics.join(pd.DataFrame.from_dict(recall_dict, orient='index', columns=['Sensibilidade']))\n",
    "metrics = metrics.join(pd.DataFrame.from_dict(f1_score_dict, orient='index', columns=['F1-Score']))"
   ]
  },
  {
   "cell_type": "code",
   "execution_count": 16,
   "metadata": {},
   "outputs": [
    {
     "data": {
      "text/html": [
       "<div>\n",
       "<style scoped>\n",
       "    .dataframe tbody tr th:only-of-type {\n",
       "        vertical-align: middle;\n",
       "    }\n",
       "\n",
       "    .dataframe tbody tr th {\n",
       "        vertical-align: top;\n",
       "    }\n",
       "\n",
       "    .dataframe thead th {\n",
       "        text-align: right;\n",
       "    }\n",
       "</style>\n",
       "<table border=\"1\" class=\"dataframe\">\n",
       "  <thead>\n",
       "    <tr style=\"text-align: right;\">\n",
       "      <th></th>\n",
       "      <th>Acurácia</th>\n",
       "      <th>ROC AUC</th>\n",
       "      <th>Precisão</th>\n",
       "      <th>Sensibilidade</th>\n",
       "      <th>F1-Score</th>\n",
       "    </tr>\n",
       "  </thead>\n",
       "  <tbody>\n",
       "    <tr>\n",
       "      <th>Regressão logística</th>\n",
       "      <td>0.915037</td>\n",
       "      <td>0.915455</td>\n",
       "      <td>0.186711</td>\n",
       "      <td>0.915892</td>\n",
       "      <td>0.310188</td>\n",
       "    </tr>\n",
       "    <tr>\n",
       "      <th>Árvore de decisão</th>\n",
       "      <td>0.897817</td>\n",
       "      <td>0.915524</td>\n",
       "      <td>0.161950</td>\n",
       "      <td>0.934000</td>\n",
       "      <td>0.276037</td>\n",
       "    </tr>\n",
       "    <tr>\n",
       "      <th>KNN</th>\n",
       "      <td>0.936669</td>\n",
       "      <td>0.887792</td>\n",
       "      <td>0.225547</td>\n",
       "      <td>0.836788</td>\n",
       "      <td>0.355322</td>\n",
       "    </tr>\n",
       "    <tr>\n",
       "      <th>Naive Bayes Gaussiano</th>\n",
       "      <td>0.942851</td>\n",
       "      <td>0.827172</td>\n",
       "      <td>0.224061</td>\n",
       "      <td>0.706457</td>\n",
       "      <td>0.340218</td>\n",
       "    </tr>\n",
       "    <tr>\n",
       "      <th>Linear SVM</th>\n",
       "      <td>0.926954</td>\n",
       "      <td>0.913612</td>\n",
       "      <td>0.209150</td>\n",
       "      <td>0.899690</td>\n",
       "      <td>0.339400</td>\n",
       "    </tr>\n",
       "    <tr>\n",
       "      <th>Floresta aleatória</th>\n",
       "      <td>0.897713</td>\n",
       "      <td>0.915703</td>\n",
       "      <td>0.161865</td>\n",
       "      <td>0.934477</td>\n",
       "      <td>0.275935</td>\n",
       "    </tr>\n",
       "    <tr>\n",
       "      <th>Multilayer perceptron</th>\n",
       "      <td>0.925661</td>\n",
       "      <td>0.914935</td>\n",
       "      <td>0.206726</td>\n",
       "      <td>0.903741</td>\n",
       "      <td>0.336483</td>\n",
       "    </tr>\n",
       "    <tr>\n",
       "      <th>XGBoost</th>\n",
       "      <td>0.897798</td>\n",
       "      <td>0.915863</td>\n",
       "      <td>0.162007</td>\n",
       "      <td>0.934715</td>\n",
       "      <td>0.276151</td>\n",
       "    </tr>\n",
       "  </tbody>\n",
       "</table>\n",
       "</div>"
      ],
      "text/plain": [
       "                       Acurácia   ROC AUC  Precisão  Sensibilidade  F1-Score\n",
       "Regressão logística    0.915037  0.915455  0.186711       0.915892  0.310188\n",
       "Árvore de decisão      0.897817  0.915524  0.161950       0.934000  0.276037\n",
       "KNN                    0.936669  0.887792  0.225547       0.836788  0.355322\n",
       "Naive Bayes Gaussiano  0.942851  0.827172  0.224061       0.706457  0.340218\n",
       "Linear SVM             0.926954  0.913612  0.209150       0.899690  0.339400\n",
       "Floresta aleatória     0.897713  0.915703  0.161865       0.934477  0.275935\n",
       "Multilayer perceptron  0.925661  0.914935  0.206726       0.903741  0.336483\n",
       "XGBoost                0.897798  0.915863  0.162007       0.934715  0.276151"
      ]
     },
     "execution_count": 16,
     "metadata": {},
     "output_type": "execute_result"
    }
   ],
   "source": [
    "metrics"
   ]
  },
  {
   "cell_type": "code",
   "execution_count": 17,
   "metadata": {},
   "outputs": [],
   "source": [
    "metrics.index.rename('Modelo', inplace=True)\n",
    "metrics.reset_index(inplace=True)\n",
    "df = metrics.melt('Modelo', var_name='Métrica',  value_name='Score')"
   ]
  },
  {
   "cell_type": "code",
   "execution_count": 26,
   "metadata": {},
   "outputs": [
    {
     "data": {
      "image/png": "[encoded data removed]",
      "text/plain": [
       "<Figure size 1440x720 with 1 Axes>"
      ]
     },
     "metadata": {
      "needs_background": "light"
     },
     "output_type": "display_data"
    }
   ],
   "source": [
    "plt.rc('figure', figsize=(20, 10))\n",
    "ax = sns.barplot(x='Modelo', y='Score', hue='Métrica', data=df, palette='Paired')\n",
    "\n",
    "        \n",
    "show_values_on_bars(ax)\n",
    "\n",
    "ax.set_title('Score de cada modelo de machine learning por métrica de avaliação (com balanceamento)', fontsize=18, pad=30);\n",
    "ax.set_ylabel('Score', fontsize=14)\n",
    "ax.set_xlabel('')\n",
    "\n",
    "ax.tick_params(axis='both', which='major', labelsize=12)\n",
    "plt.legend(bbox_to_anchor=(1, 1),borderaxespad=0);"
   ]
  },
  {
   "cell_type": "code",
   "execution_count": null,
   "metadata": {},
   "outputs": [],
   "source": []
  }
 ],
 "metadata": {
  "kernelspec": {
   "display_name": "Python 3",
   "language": "python",
   "name": "python3"
  },
  "language_info": {
   "codemirror_mode": {
    "name": "ipython",
    "version": 3
   },
   "file_extension": ".py",
   "mimetype": "text/x-python",
   "name": "python",
   "nbconvert_exporter": "python",
   "pygments_lexer": "ipython3",
   "version": "3.6.9"
  }
 },
 "nbformat": 4,
 "nbformat_minor": 4
}
