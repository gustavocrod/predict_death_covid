{
 "cells": [
  {
   "cell_type": "markdown",
   "metadata": {},
   "source": [
    "### Carregamento das bibliotecas"
   ]
  },
  {
   "cell_type": "code",
   "execution_count": 11,
   "metadata": {},
   "outputs": [],
   "source": [
    "# Manipulacao de dados\n",
    "import numpy as np\n",
    "import pandas as pd\n",
    "\n",
    "# Visualizacao de dados\n",
    "import matplotlib.pyplot as plt\n",
    "import missingno as msno\n",
    "import seaborn as sns\n",
    "import scikitplot as skplt\n",
    "\n",
    "# Machine learning \n",
    "from sklearn.svm import LinearSVC\n",
    "from sklearn.ensemble import RandomForestClassifier, GradientBoostingClassifier\n",
    "from sklearn.naive_bayes import GaussianNB\n",
    "from sklearn.linear_model import LinearRegression, LogisticRegression, Ridge, Lasso\n",
    "from sklearn.tree import DecisionTreeClassifier\n",
    "from sklearn.neural_network import MLPClassifier\n",
    "from sklearn.neighbors import KNeighborsClassifier\n",
    "from sklearn.ensemble import RandomForestClassifier\n",
    "from xgboost import XGBClassifier\n",
    "\n",
    "# cross validate\n",
    "from sklearn.model_selection import train_test_split\n",
    "from sklearn.model_selection import StratifiedKFold, cross_validate, KFold\n",
    "from sklearn.metrics import make_scorer\n",
    "from sklearn.model_selection import cross_val_predict\n",
    "from sklearn.metrics import confusion_matrix\n",
    "\n",
    "# Selecao de caracteristicas e encoders\n",
    "from sklearn.preprocessing import OneHotEncoder, LabelEncoder\n",
    "\n",
    "# Metricas de avaliacao\n",
    "from sklearn.metrics import roc_curve, auc, roc_auc_score, accuracy_score, classification_report, confusion_matrix\n",
    "from sklearn.metrics import recall_score, precision_score, f1_score, average_precision_score,plot_roc_curve\n",
    "\n",
    "# remover warning\n",
    "import warnings\n",
    "warnings.filterwarnings('ignore')"
   ]
  },
  {
   "cell_type": "code",
   "execution_count": 2,
   "metadata": {},
   "outputs": [],
   "source": [
    "df = pd.read_csv(\"files/covid_2021_cleaned.csv\", sep=';')"
   ]
  },
  {
   "cell_type": "code",
   "execution_count": 3,
   "metadata": {},
   "outputs": [
    {
     "data": {
      "text/html": [
       "<div>\n",
       "<style scoped>\n",
       "    .dataframe tbody tr th:only-of-type {\n",
       "        vertical-align: middle;\n",
       "    }\n",
       "\n",
       "    .dataframe tbody tr th {\n",
       "        vertical-align: top;\n",
       "    }\n",
       "\n",
       "    .dataframe thead th {\n",
       "        text-align: right;\n",
       "    }\n",
       "</style>\n",
       "<table border=\"1\" class=\"dataframe\">\n",
       "  <thead>\n",
       "    <tr style=\"text-align: right;\">\n",
       "      <th></th>\n",
       "      <th>SEXO</th>\n",
       "      <th>FAIXAETARIA</th>\n",
       "      <th>EVOLUCAO</th>\n",
       "      <th>FEBRE</th>\n",
       "      <th>TOSSE</th>\n",
       "      <th>GARGANTA</th>\n",
       "      <th>DISPNEIA</th>\n",
       "      <th>GESTANTE</th>\n",
       "      <th>SRAG</th>\n",
       "      <th>CARDIOPATIA</th>\n",
       "      <th>DIABETES</th>\n",
       "      <th>DOENCA_RESPIRATORIA</th>\n",
       "      <th>PROBLEMA_RENAL</th>\n",
       "      <th>OBESIDADE</th>\n",
       "      <th>DOENCA_CROMOSSOMICA</th>\n",
       "    </tr>\n",
       "  </thead>\n",
       "  <tbody>\n",
       "    <tr>\n",
       "      <th>0</th>\n",
       "      <td>Masculino</td>\n",
       "      <td>50 a 59</td>\n",
       "      <td>0</td>\n",
       "      <td>NAO</td>\n",
       "      <td>NAO</td>\n",
       "      <td>NAO</td>\n",
       "      <td>NAO</td>\n",
       "      <td>NAO</td>\n",
       "      <td>NAO</td>\n",
       "      <td>NAO</td>\n",
       "      <td>NAO</td>\n",
       "      <td>NAO</td>\n",
       "      <td>NÃO</td>\n",
       "      <td>NAO</td>\n",
       "      <td>NAO</td>\n",
       "    </tr>\n",
       "    <tr>\n",
       "      <th>1</th>\n",
       "      <td>Masculino</td>\n",
       "      <td>&lt;1</td>\n",
       "      <td>0</td>\n",
       "      <td>SIM</td>\n",
       "      <td>NAO</td>\n",
       "      <td>NAO</td>\n",
       "      <td>NAO</td>\n",
       "      <td>NAO</td>\n",
       "      <td>NAO</td>\n",
       "      <td>NAO</td>\n",
       "      <td>NAO</td>\n",
       "      <td>NAO</td>\n",
       "      <td>NÃO</td>\n",
       "      <td>NAO</td>\n",
       "      <td>NAO</td>\n",
       "    </tr>\n",
       "    <tr>\n",
       "      <th>2</th>\n",
       "      <td>Masculino</td>\n",
       "      <td>30 a 39</td>\n",
       "      <td>0</td>\n",
       "      <td>NAO</td>\n",
       "      <td>SIM</td>\n",
       "      <td>SIM</td>\n",
       "      <td>NAO</td>\n",
       "      <td>NAO</td>\n",
       "      <td>NAO</td>\n",
       "      <td>NAO</td>\n",
       "      <td>NAO</td>\n",
       "      <td>NAO</td>\n",
       "      <td>NÃO</td>\n",
       "      <td>NAO</td>\n",
       "      <td>NAO</td>\n",
       "    </tr>\n",
       "    <tr>\n",
       "      <th>3</th>\n",
       "      <td>Masculino</td>\n",
       "      <td>20 a 29</td>\n",
       "      <td>0</td>\n",
       "      <td>NAO</td>\n",
       "      <td>SIM</td>\n",
       "      <td>NAO</td>\n",
       "      <td>SIM</td>\n",
       "      <td>NAO</td>\n",
       "      <td>NAO</td>\n",
       "      <td>NAO</td>\n",
       "      <td>NAO</td>\n",
       "      <td>NAO</td>\n",
       "      <td>NÃO</td>\n",
       "      <td>NAO</td>\n",
       "      <td>NAO</td>\n",
       "    </tr>\n",
       "    <tr>\n",
       "      <th>4</th>\n",
       "      <td>Feminino</td>\n",
       "      <td>50 a 59</td>\n",
       "      <td>0</td>\n",
       "      <td>NAO</td>\n",
       "      <td>SIM</td>\n",
       "      <td>NAO</td>\n",
       "      <td>SIM</td>\n",
       "      <td>NAO</td>\n",
       "      <td>SIM</td>\n",
       "      <td>NAO</td>\n",
       "      <td>NAO</td>\n",
       "      <td>NAO</td>\n",
       "      <td>NÃO</td>\n",
       "      <td>NAO</td>\n",
       "      <td>NAO</td>\n",
       "    </tr>\n",
       "  </tbody>\n",
       "</table>\n",
       "</div>"
      ],
      "text/plain": [
       "        SEXO FAIXAETARIA  EVOLUCAO FEBRE TOSSE GARGANTA DISPNEIA GESTANTE  \\\n",
       "0  Masculino     50 a 59         0   NAO   NAO      NAO      NAO      NAO   \n",
       "1  Masculino          <1         0   SIM   NAO      NAO      NAO      NAO   \n",
       "2  Masculino     30 a 39         0   NAO   SIM      SIM      NAO      NAO   \n",
       "3  Masculino     20 a 29         0   NAO   SIM      NAO      SIM      NAO   \n",
       "4   Feminino     50 a 59         0   NAO   SIM      NAO      SIM      NAO   \n",
       "\n",
       "  SRAG CARDIOPATIA DIABETES DOENCA_RESPIRATORIA PROBLEMA_RENAL OBESIDADE  \\\n",
       "0  NAO         NAO      NAO                 NAO            NÃO       NAO   \n",
       "1  NAO         NAO      NAO                 NAO            NÃO       NAO   \n",
       "2  NAO         NAO      NAO                 NAO            NÃO       NAO   \n",
       "3  NAO         NAO      NAO                 NAO            NÃO       NAO   \n",
       "4  SIM         NAO      NAO                 NAO            NÃO       NAO   \n",
       "\n",
       "  DOENCA_CROMOSSOMICA  \n",
       "0                 NAO  \n",
       "1                 NAO  \n",
       "2                 NAO  \n",
       "3                 NAO  \n",
       "4                 NAO  "
      ]
     },
     "execution_count": 3,
     "metadata": {},
     "output_type": "execute_result"
    }
   ],
   "source": [
    "df.head()"
   ]
  },
  {
   "cell_type": "markdown",
   "metadata": {},
   "source": [
    "___\n",
    "# III. Teste e validação dos modelos"
   ]
  },
  {
   "cell_type": "markdown",
   "metadata": {},
   "source": [
    "## 1.  *Feature Encoding*\n",
    "\n",
    "Como modelos de *machine learning* performam algebra linear em matrizes, precisamos que todas as variáveis estejam como valores numericos. O processo de conversão de variaveis categoricas em numéricas é chamado de *Encoding*. Existem algumas abordagens para converter os dados categóricos em numéricos, para que o modelo possa entendê-los. Veremos os dois métodos: **Label encoding** e **One-Hot encoding**.\n",
    "\n",
    "- Label Encoding: Recomendado quando lidamos com variáveis categóricas ordinais: Consiste em *designar um valor inteiro* (0, 1, 2, ...) oara cada valor unico da coluna.\n",
    "- One-hot encoding: Consiste em *criar uma nova coluna* para cada valor único de uma coluna existente.\n",
    "\n",
    "Material complementar:\n",
    "- [Um guia (simples) de como tratar variáveis categóricas em Machine Learning](https://medium.com/@nelson.ewert.oliveira/um-guia-simples-de-como-tratar-vari%C3%A1veis-categ%C3%B3ricas-em-machine-learning-b791a00da805)\n",
    "- [One-Hot Encoding vs. Label Encoding using Scikit-Learn](https://www.analyticsvidhya.com/blog/2020/03/one-hot-encoding-vs-label-encoding-using-scikit-learn/)\n",
    "- [Guide to Encoding Categorical Values in Python](https://pbpython.com/categorical-encoding.html)\n",
    "\n",
    "Para nosso contexto, vamos utilizar o **One-hot encoding**.\n"
   ]
  },
  {
   "cell_type": "code",
   "execution_count": 4,
   "metadata": {},
   "outputs": [],
   "source": [
    "df = pd.get_dummies(df, drop_first=True)"
   ]
  },
  {
   "cell_type": "code",
   "execution_count": 5,
   "metadata": {},
   "outputs": [
    {
     "data": {
      "text/plain": [
       "Index(['EVOLUCAO', 'SEXO_Masculino', 'FAIXAETARIA_05 a 09',\n",
       "       'FAIXAETARIA_10 a 14', 'FAIXAETARIA_15 a 19', 'FAIXAETARIA_20 a 29',\n",
       "       'FAIXAETARIA_30 a 39', 'FAIXAETARIA_40 a 49', 'FAIXAETARIA_50 a 59',\n",
       "       'FAIXAETARIA_60 a 69', 'FAIXAETARIA_70 a 79', 'FAIXAETARIA_80 e mais',\n",
       "       'FAIXAETARIA_<1', 'FEBRE_SIM', 'TOSSE_SIM', 'GARGANTA_SIM',\n",
       "       'DISPNEIA_SIM', 'GESTANTE_SIM', 'SRAG_SIM', 'CARDIOPATIA_SIM',\n",
       "       'DIABETES_SIM', 'DOENCA_RESPIRATORIA_SIM', 'PROBLEMA_RENAL_SIM',\n",
       "       'OBESIDADE_SIM', 'DOENCA_CROMOSSOMICA_SIM'],\n",
       "      dtype='object')"
      ]
     },
     "execution_count": 5,
     "metadata": {},
     "output_type": "execute_result"
    }
   ],
   "source": [
    "df.columns"
   ]
  },
  {
   "cell_type": "code",
   "execution_count": 6,
   "metadata": {},
   "outputs": [],
   "source": [
    "# renomear para nao dar problema com '<'\n",
    "df.rename(columns={\"FAIXAETARIA_<1\": \"FAIXAETARIA_MENOR_1\"}, inplace=True)"
   ]
  },
  {
   "cell_type": "code",
   "execution_count": 7,
   "metadata": {},
   "outputs": [
    {
     "data": {
      "text/plain": [
       "Index(['EVOLUCAO', 'SEXO_Masculino', 'FAIXAETARIA_05 a 09',\n",
       "       'FAIXAETARIA_10 a 14', 'FAIXAETARIA_15 a 19', 'FAIXAETARIA_20 a 29',\n",
       "       'FAIXAETARIA_30 a 39', 'FAIXAETARIA_40 a 49', 'FAIXAETARIA_50 a 59',\n",
       "       'FAIXAETARIA_60 a 69', 'FAIXAETARIA_70 a 79', 'FAIXAETARIA_80 e mais',\n",
       "       'FAIXAETARIA_MENOR_1', 'FEBRE_SIM', 'TOSSE_SIM', 'GARGANTA_SIM',\n",
       "       'DISPNEIA_SIM', 'GESTANTE_SIM', 'SRAG_SIM', 'CARDIOPATIA_SIM',\n",
       "       'DIABETES_SIM', 'DOENCA_RESPIRATORIA_SIM', 'PROBLEMA_RENAL_SIM',\n",
       "       'OBESIDADE_SIM', 'DOENCA_CROMOSSOMICA_SIM'],\n",
       "      dtype='object')"
      ]
     },
     "execution_count": 7,
     "metadata": {},
     "output_type": "execute_result"
    }
   ],
   "source": [
    "df.columns"
   ]
  },
  {
   "cell_type": "code",
   "execution_count": 8,
   "metadata": {},
   "outputs": [],
   "source": [
    "# salvar no disco\n",
    "df.to_csv(\"files/covid_2021_prepared.csv\", sep=';', index=False)"
   ]
  },
  {
   "cell_type": "markdown",
   "metadata": {},
   "source": [
    "## 2. Separação treino-teste"
   ]
  },
  {
   "cell_type": "code",
   "execution_count": 9,
   "metadata": {},
   "outputs": [],
   "source": [
    "X = df.drop(['EVOLUCAO'], axis=1)\n",
    "y = df['EVOLUCAO']"
   ]
  },
  {
   "cell_type": "code",
   "execution_count": 10,
   "metadata": {},
   "outputs": [],
   "source": [
    "# divisao treino test\n",
    "X_train, X_test, y_train, y_test = train_test_split(X, y, stratify=y, test_size=0.3, random_state=777)"
   ]
  },
  {
   "cell_type": "markdown",
   "metadata": {},
   "source": [
    "## 3. Treino dos modelos"
   ]
  },
  {
   "cell_type": "code",
   "execution_count": 22,
   "metadata": {},
   "outputs": [],
   "source": [
    "from sklearn.metrics import precision_recall_curve\n",
    "from sklearn.metrics import plot_precision_recall_curve"
   ]
  },
  {
   "cell_type": "code",
   "execution_count": 28,
   "metadata": {},
   "outputs": [
    {
     "name": "stdout",
     "output_type": "stream",
     "text": [
      "===============\n",
      "Árvore de decisão\n",
      "ROC-AUC SCORE: 0.7089945660439164\n",
      "PRECISION: 0.5623236124176858\n",
      "RECALL: 0.42895586652314316\n",
      "===============\n",
      "===============\n",
      "Floresta aleatória\n",
      "ROC-AUC SCORE: 0.7122840823993379\n",
      "PRECISION: 0.5647825075598977\n",
      "RECALL: 0.43559382848941514\n",
      "===============\n",
      "===============\n",
      "XGBoost\n",
      "[17:38:29] WARNING: ../src/learner.cc:1061: Starting in XGBoost 1.3.0, the default evaluation metric used with the objective 'binary:logistic' was changed from 'error' to 'logloss'. Explicitly set eval_metric if you'd like to restore the old behavior.\n",
      "ROC-AUC SCORE: 0.7113569472818817\n",
      "PRECISION: 0.5825688073394495\n",
      "RECALL: 0.43290276282741297\n",
      "===============\n"
     ]
    },
    {
     "data": {
      "image/png": "[encoded data removed]",
      "text/plain": [
       "<Figure size 432x288 with 1 Axes>"
      ]
     },
     "metadata": {
      "needs_background": "light"
     },
     "output_type": "display_data"
    },
    {
     "data": {
      "image/png": "[encoded data removed]",
      "text/plain": [
       "<Figure size 432x288 with 1 Axes>"
      ]
     },
     "metadata": {
      "needs_background": "light"
     },
     "output_type": "display_data"
    }
   ],
   "source": [
    "SEED = 777\n",
    "np.random.seed(SEED)\n",
    "models = [DecisionTreeClassifier(max_depth=3, random_state=SEED), RandomForestClassifier(random_state=SEED), XGBClassifier(random_state=SEED)]\n",
    "\n",
    "verbose_models = ['Árvore de decisão', 'Floresta aleatória', 'XGBoost']\n",
    "\n",
    "fig1, ax1 = plt.subplots()\n",
    "fig2, ax2 = plt.subplots()\n",
    "\n",
    "model_displays = {}\n",
    "for name, model in zip(verbose_models, models):\n",
    "    print(\"===============\")\n",
    "    print(name)\n",
    "    \n",
    "    model.fit(X_train, y_train)\n",
    "    y_pred = model.predict(X_test)\n",
    "    print(f\"ROC-AUC SCORE: {roc_auc_score(y_test, y_pred)}\")\n",
    "    print(f\"PRECISION: {precision_score(y_test, y_pred)}\")\n",
    "    print(f\"RECALL: {recall_score(y_test, y_pred)}\")\n",
    "    model_displays[name] = plot_roc_curve(model, X_test, y_test, ax=ax1, name=name)\n",
    "    plot_precision_recall_curve(model, X_test, y_test, ax=ax2, name=name)\n",
    "    print(\"===============\")\n",
    "\n",
    "_ = ax1.set_title('Curva ROC')\n",
    "_ = ax1.set_title('Curva Precisão-Sensibilidade')\n",
    "plt.show()     "
   ]
  },
  {
   "cell_type": "code",
   "execution_count": 27,
   "metadata": {},
   "outputs": [
    {
     "data": {
      "image/png": "[encoded data removed]",
      "text/plain": [
       "<Figure size 432x288 with 1 Axes>"
      ]
     },
     "metadata": {
      "needs_background": "light"
     },
     "output_type": "display_data"
    }
   ],
   "source": [
    "fig, ax = plt.subplots()\n",
    "for name, model in zip(verbose_models, models):\n",
    "    model_displays[name].plot(ax=ax)\n",
    "\n",
    "ax.set_xlim(0, 0.2)\n",
    "ax.set_ylim(0.8, 1)\n",
    "_ = ax.set_title('Curva ROC (zoom no canto superior esquerdo)')"
   ]
  },
  {
   "cell_type": "code",
   "execution_count": null,
   "metadata": {},
   "outputs": [],
   "source": []
  }
 ],
 "metadata": {
  "kernelspec": {
   "display_name": "Python 3",
   "language": "python",
   "name": "python3"
  },
  "language_info": {
   "codemirror_mode": {
    "name": "ipython",
    "version": 3
   },
   "file_extension": ".py",
   "mimetype": "text/x-python",
   "name": "python",
   "nbconvert_exporter": "python",
   "pygments_lexer": "ipython3",
   "version": "3.6.9"
  }
 },
 "nbformat": 4,
 "nbformat_minor": 4
}
