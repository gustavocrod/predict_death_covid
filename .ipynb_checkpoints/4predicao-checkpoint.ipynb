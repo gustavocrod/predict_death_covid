{
 "cells": [
  {
   "cell_type": "markdown",
   "metadata": {},
   "source": [
    "## 0. Carregamento das bibliotecas"
   ]
  },
  {
   "cell_type": "code",
   "execution_count": 16,
   "metadata": {},
   "outputs": [],
   "source": [
    "# Manipulacao de dados\n",
    "import numpy as np\n",
    "import pandas as pd\n",
    "\n",
    "# Visualizacao de dados\n",
    "import matplotlib.pyplot as plt\n",
    "import missingno as msno\n",
    "import seaborn as sns\n",
    "import scikitplot as skplt\n",
    "\n",
    "# Machine learning \n",
    "from sklearn.svm import LinearSVC\n",
    "from sklearn.ensemble import RandomForestClassifier, GradientBoostingClassifier\n",
    "from sklearn.naive_bayes import GaussianNB\n",
    "from sklearn.linear_model import LinearRegression, LogisticRegression, Ridge, Lasso\n",
    "from sklearn.tree import DecisionTreeClassifier\n",
    "from sklearn.neural_network import MLPClassifier\n",
    "from sklearn.neighbors import KNeighborsClassifier\n",
    "from sklearn.ensemble import RandomForestClassifier\n",
    "from xgboost import XGBClassifier\n",
    "\n",
    "# balanceamento\n",
    "from imblearn.under_sampling import RandomUnderSampler\n",
    "\n",
    "# Grid e Random Search\n",
    "from sklearn.model_selection import GridSearchCV\n",
    "from sklearn.model_selection import RandomizedSearchCV\n",
    "from sklearn.model_selection import train_test_split\n",
    "\n",
    "# Metricas de avaliacao\n",
    "from sklearn.metrics import roc_curve, auc, roc_auc_score, accuracy_score, classification_report, confusion_matrix\n",
    "from sklearn.metrics import recall_score, precision_score, f1_score\n"
   ]
  },
  {
   "cell_type": "markdown",
   "metadata": {},
   "source": [
    "## 1. Carregamento dos dados\n",
    "\n",
    "Após ter os dados pré-processados, podemos começar a construir nosso modelo."
   ]
  },
  {
   "cell_type": "code",
   "execution_count": 2,
   "metadata": {},
   "outputs": [],
   "source": [
    "df = pd.read_csv(\"covid_11_marco_pre_process.csv\", sep=';')"
   ]
  },
  {
   "cell_type": "markdown",
   "metadata": {},
   "source": [
    "## 2. Treino e teste\n",
    "\n",
    "Antes de dividirmos nossos dados, vamos verificar o balanceamento dos mesmos.\n"
   ]
  },
  {
   "cell_type": "code",
   "execution_count": 3,
   "metadata": {},
   "outputs": [
    {
     "data": {
      "image/png": "[encoded data removed]",
      "text/plain": [
       "<Figure size 432x288 with 1 Axes>"
      ]
     },
     "metadata": {
      "needs_background": "light"
     },
     "output_type": "display_data"
    }
   ],
   "source": [
    "sns.countplot(y='OBITO', data=df, palette=\"magma\");"
   ]
  },
  {
   "cell_type": "code",
   "execution_count": 4,
   "metadata": {},
   "outputs": [
    {
     "data": {
      "text/plain": [
       "13.47997926655436"
      ]
     },
     "execution_count": 4,
     "metadata": {},
     "output_type": "execute_result"
    }
   ],
   "source": [
    "(df['OBITO'].sum()/df.shape[0]) * 100"
   ]
  },
  {
   "cell_type": "markdown",
   "metadata": {},
   "source": [
    "Podemos ver que o nosso conjunto de dados está desbalanceado. Mais precisamente, apenas 13.47% dos dados são Óbitos. Se construíssemos um modelo preditivo que classificasse os dados apenas como 0 (Recuperado), teríamos um modelo com 86.53% de acurácia. Queremos evitar esse \"comportamento ingênuo\".\n",
    "\n",
    "#### 2.1 Como lidar com dados desbalanceados\n",
    "\n",
    "Alguns exemplos de situações onde o desbalanceamento é quase certo são problemas de detecção de fraude e diagnóstico médicos - é intuitivo pensar que existem mais transações lícitas que criminosas, ou que o conjunto de pessoas diagnosticadas com câncer é bem menor que o conjunto de pessoas sem a doença.\n",
    "\n",
    "Ignorar esse fato e treinar um algoritmo em cima do conjunto de dados original, pulando uma etapa intermediária de balanceamento dos dados, pode ter impactos diretos no seu projeto de Data Science.\n",
    "\n",
    "#### 2.2 Consequências dos dados desbalanceados\n",
    "Se você está construindo um modelo de machine learning para classificação, por exemplo, a consequência desse desequilíbrio é que o modelo terá uma tendência a dar muitos \"alarmes falsos\".\n",
    "\n",
    "Ou seja, na prática ele irá responder muito bem entradas para as classes majoritárias, mas terá um desempenho inferior para as minoriárias.\n",
    "\n",
    "No exemplo de detecção de fraude com cartões de crédito (onde o número de transações financeiras normais é bem maior que o número de transações fraudulentas), um classificador tenderá a apresentar muitos falsos negativos - uma situação indesejável para um banco, obviamente.\n",
    "\n",
    "Em um trade-off, seria preferível \"errar para mais\" e ter uma quantidade maior de falsos positivos. Aliás, aposto que você já teve seu cartão bloqueado preventivamente e teve que ligar no banco para confirmar as últimas compras que havia feito, não é mesmo?!\n",
    "\n",
    "Teoricamente, um dataset que possua qualquer classe com mais de 50% das entradas já é considerado desbalanceado. No entanto, há situações extremas onde você vai encontrar proporções maiores que 99:1.\n",
    "\n",
    "Existem várias abordagens para lidar com dados desbalanceados, cada uma com seus prós e contras. Neste artigo, irei mostrar alguns dos métodos mais populares para você incluir desde já no seu arsenal.\n",
    "\n",
    "#### 2.3 Métodos para lidar com datasets desbalanceados\n",
    "\n",
    "Há diversas maneiras para atacar o problema de dados desbalanceados, que envolvem desde a construção de algoritmos específicos até a aplicação de algoritmos mais avançados como Recognition-based Learning e Cost-sensitive Learning.\n",
    "\n",
    "No entanto, uma outra abordagem bem mais simples tem sido amplamente usada (com ótimos resultados), a abordagem *sampling*.\n",
    "\n",
    "*Sampling* é um pré-processamento que visa minimizar as discrepâncias entre as classes por meio de uma reamostragem do dataset original. Para gerar um conjunto balanceado, são usadas normalmente as seguintes técnicas:\n",
    "\n",
    " - Over-sampling: cria novas observações da classe minoritária a partir das informações contidas nos dados originais. Essa geração de novas entradas pode ser feita aleatoriamente com o auxílio de técnicas de clustering ou sinteticamente.\n",
    "\n",
    " - Under-sampling: reduz o desbalanceamento do dataset focando na classe majoritária. Ou seja, elimina aleatoriamente entradas da classe com maior número de ocorrências.\n",
    "\n",
    "Além dessas duas técnicas de *sampling*, existem também os advanced sampling methods, como SMOTE e ADASYN, onde instâncias são adicionadas ou removidas adaptativamente.\n",
    "\n",
    "Para isso, podemos usar abordagens que levam em conta apenas a avaliação do modelo, ou técnicas para rebalanceamento como a **undersampling**, que consiste em reamostrar a classe majoritária (nesse caso, recuperado) e manter apenas uma parte desses pontos.\n",
    "\n",
    "![under sampling](resampling.png)\n",
    "\n",
    "#### *tradeoff*\n",
    "Ao usar um método de reamostragem (por exemplo, para obter tantos dados de ÓBITO quanto de RECUPERADOS), mostramos as proporções erradas das duas classes para o classificador durante o treinamento. O classificador treinado dessa maneira terá uma precisão menor nos dados de teste reais futuros do que o classificador treinado no conjunto de dados inalterado. Na verdade, as verdadeiras proporções das classes são importantes para saber para classificar um novo ponto e essa informação foi perdida ao reamostrar o conjunto de dados. \n",
    "\n",
    "- [Handling imbalanced datasets in machine learning](https://towardsdatascience.com/handling-imbalanced-datasets-in-machine-learning-7a0e84220f28)\n",
    "- [Learning pattern classification tasks with imbalanced data sets](https://ro.uow.edu.au/cgi/viewcontent.cgi?referer=https://www.google.com/&httpsredir=1&article=1806&context=infopapers)\n",
    "- [There is No Free Lunch in Data Science](https://www.kdnuggets.com/2019/09/no-free-lunch-data-science.html)"
   ]
  },
  {
   "cell_type": "markdown",
   "metadata": {},
   "source": [
    "#### 2.3 Divisão treino e teste e balanceamento\n",
    "\n",
    "Vamos utilizar o `train_test_split` com 30% dos dados para test, e random_state em 42, para replicabilidade do código.\n",
    "\n",
    "Para balanceamento, utilizaremo do `RandomUnderSampler` do imblearn.\n"
   ]
  },
  {
   "cell_type": "code",
   "execution_count": 5,
   "metadata": {},
   "outputs": [],
   "source": [
    "X_train, X_test, y_train, y_test = train_test_split(df.drop('OBITO', axis=1), df['OBITO'], test_size=0.3, random_state=42)"
   ]
  },
  {
   "cell_type": "code",
   "execution_count": 6,
   "metadata": {},
   "outputs": [],
   "source": [
    "rus = RandomUnderSampler()\n",
    "X_train_rus, y_train_rus = rus.fit_resample(X_train, y_train)"
   ]
  },
  {
   "cell_type": "code",
   "execution_count": 7,
   "metadata": {},
   "outputs": [
    {
     "name": "stderr",
     "output_type": "stream",
     "text": [
      "/home/gustavocrod/.local/lib/python3.6/site-packages/seaborn/_decorators.py:43: FutureWarning: Pass the following variable as a keyword arg: x. From version 0.12, the only valid positional argument will be `data`, and passing other arguments without an explicit keyword will result in an error or misinterpretation.\n",
      "  FutureWarning\n"
     ]
    },
    {
     "data": {
      "image/png": "[encoded data removed]",
      "text/plain": [
       "<Figure size 432x288 with 1 Axes>"
      ]
     },
     "metadata": {
      "needs_background": "light"
     },
     "output_type": "display_data"
    }
   ],
   "source": [
    "sns.countplot(y_train_rus, palette='magma');"
   ]
  },
  {
   "cell_type": "markdown",
   "metadata": {},
   "source": [
    "# 3.Algoritmos de aprendizagem de máquina\n",
    "\n",
    "Vamos utilizar esses algoritmos:\n",
    "\n",
    " - Logistic Regression\n",
    " - Random Forest\n",
    " - Naive Bayes\n",
    " - Stochastic Gradient Decent\n",
    " - Linear SVC\n",
    " - Decision Tree\n",
    " - Gradient Boosted Trees\n",
    "\n",
    "## 3.0 Métricas de avaliação\n",
    "\n",
    "Como saber se meu modelo previu bem? Como saber se ele prevê bem a classe que queremos (Óbito)? Essas e outras questões podemos entender com as matrizes de confusão.\n",
    "\n",
    "#### Matriz de confusão\n",
    "\n",
    "![Matriz de confusao](confusion_matrix.png)\n",
    "\n",
    "É uma tabela que mostra as frequências de classificação para cada classe do modelo. Ou seja, ela mostra a quantidade de acertos e erros do modelo, e nos mostra as frequências:\n",
    "\n",
    " - **Verdadeiro positivo** (*true positive* - TP): ocorre quando no conjunto real, a classe que estamos buscando foi prevista corretamente. Por exemplo, quando o paciente veio a óbito e o modelo previu corretamente que ele veio a falecer. \n",
    " - **Falso positivo** (*false positive* - FP): ocorre quando no conjunto real, a classe que estamos buscando prever foi prevista incorretamente. Exemplo: O paciente foi recuperado, mas o modelo disse que ele veio a óbito\n",
    " - **Verdadeiro negativo** (*true negative* - TN): ocorre quando no conjunto real, a classe que não estamos buscando prever foi prevista corretamente. Exemplo: o paciente foi recuperado, e o modelo previu corretamente que ele não veio a óbito.\n",
    " - **Falso negativo** (*false negative* - FN): ocorre quando no conjunto real, a classe que não estamos buscando prever foi prevista incorretamente. Por exemplo, quando o paciente era óbito, e o modelo previu que seria recuperado.\n",
    " \n",
    " \n",
    "Através desses quatro valores, seremos capazes de calcular os indicadores: Acurácia, Precisão, Revocação (sensibilidade ou *recall*) e F1 Score.\n",
    "\n",
    "#### Métricas de avaliação decorrentes da matriz de confusão\n",
    "\n",
    " **Acurácia**\n",
    " Indica uma performance geral do modelo. Dentre todas as classificações, quantas o modelo classificou corretamente;\n",
    "  \n",
    " $acuracia = \\frac{TP + TN}{TP + FP + TN + FN} = \\frac{predicoes corretas}{todasaspredicoes}$\n",
    " \n",
    " é uma boa indicação geral de como o modelo performou. Porém, pode haver situações em que ela é enganosa. Por exemplo, na criação de um modelo de identificação de fraudes em cartões de crédito, o número de casos considerados como fraude pode ser bem pequeno em relação ao número de casos considerados legais. Para colocar em números, em uma situação hipotética de 280000 casos legais e 2000 casos fraudulentos, um modelo simplório que simplesmente classifica tudo como legal obteria uma acurácia de 99,3%. Ou seja, você estaria validando como ótimo um modelo que falha em detectar fraudes.\n",
    " \n",
    " \n",
    " **Precisão**\n",
    " Entre todas as classificações de classe Positivo que o modelo fez, quantas estão corretas; ( precisão de 1.0 ou 100% significa que não houve nenhum falso positivo.)\n",
    " \n",
    " $precisao = \\frac{TP}{TP + FP}$\n",
    "  \n",
    " A precisão pode ser usada em uma situação em que os Falsos Positivos são considerados mais prejudiciais que os Falsos Negativos. Por exemplo, ao classificar uma ação como um bom investimento, é necessário que o modelo esteja correto, mesmo que acabe classificando bons investimentos como maus investimentos (situação de Falso Negativo) no processo. Ou seja, o modelo deve ser preciso em suas classificações, pois a partir do momento que consideramos um investimento bom quando na verdade ele não é, uma grande perda de dinheiro pode acontecer.\n",
    " \n",
    " **Sensibilidade/*recall***\n",
    " \n",
    " Dentre todas as situações de classe Positivo como valor esperado, quantas estão corretas; (recall de 1.0 ou 100% significa que não houve nenhum falso negativo.)\n",
    " \n",
    " $sensibilidade = \\frac{TP}{TP + FN}$\n",
    " \n",
    " Pode ser usada em uma situação em que os Falsos Negativos são considerados mais prejudiciais que os Falsos Positivos. Por exemplo, o modelo deve de qualquer maneira encontrar todos os pacientes doentes, mesmo que classifique alguns saudáveis como doentes (situação de Falso Positivo) no processo. Ou seja, o modelo deve ter alto *recall* (sensibilidade), pois classificar pacientes doentes como saudáveis pode ser uma tragédia.\n",
    " \n",
    " **F1 Score**\n",
    " média harmônica entre precisão e sensibilidade.\n",
    " \n",
    " $f1score = 2 * \\frac{precisao * sensibilidade}{precisao + sensibilidade}$\n",
    " \n",
    " é simplesmente uma maneira de observar somente 1 métrica ao invés de duas (precisão e recall) em alguma situação. É uma média harmônica entre as duas, que está muito mais próxima dos menores valores do que uma média aritmética simples. Ou seja, quando tem-se um F1-Score baixo, é um indicativo de que ou a precisão ou o recall está baixo.\n",
    "\n",
    " "
   ]
  },
  {
   "cell_type": "code",
   "execution_count": 8,
   "metadata": {},
   "outputs": [],
   "source": [
    "def run_model(model, X_train, y_train):\n",
    "    # fazer as previsões em cima dos dados de teste\n",
    "    model.fit(X_train, y_train)\n",
    "    y_pred = model.predict(X_test)\n",
    "    if (isinstance(model, LinearSVC):\n",
    "        return y_pred, y_proba=0\n",
    "    y_proba = model.predict_proba(X_test)\n",
    "    return y_pred, y_proba"
   ]
  },
  {
   "cell_type": "code",
   "execution_count": 18,
   "metadata": {},
   "outputs": [
    {
     "name": "stderr",
     "output_type": "stream",
     "text": [
      "/home/gustavocrod/.local/lib/python3.6/site-packages/sklearn/svm/_base.py:986: ConvergenceWarning: Liblinear failed to converge, increase the number of iterations.\n",
      "  \"the number of iterations.\", ConvergenceWarning)\n"
     ]
    },
    {
     "ename": "AttributeError",
     "evalue": "'LinearSVC' object has no attribute 'predict_proba'",
     "output_type": "error",
     "traceback": [
      "\u001b[0;31m---------------------------------------------------------------------------\u001b[0m",
      "\u001b[0;31mAttributeError\u001b[0m                            Traceback (most recent call last)",
      "\u001b[0;32m<ipython-input-18-170f6397908a>\u001b[0m in \u001b[0;36m<module>\u001b[0;34m\u001b[0m\n\u001b[1;32m     18\u001b[0m \u001b[0mf1_score_dict\u001b[0m \u001b[0;34m=\u001b[0m \u001b[0;34m{\u001b[0m\u001b[0;34m}\u001b[0m\u001b[0;34m\u001b[0m\u001b[0;34m\u001b[0m\u001b[0m\n\u001b[1;32m     19\u001b[0m \u001b[0;32mfor\u001b[0m \u001b[0mname\u001b[0m\u001b[0;34m,\u001b[0m \u001b[0mmodel\u001b[0m \u001b[0;32min\u001b[0m \u001b[0mzip\u001b[0m\u001b[0;34m(\u001b[0m\u001b[0mverbose_models\u001b[0m\u001b[0;34m,\u001b[0m \u001b[0mmodels\u001b[0m\u001b[0;34m)\u001b[0m\u001b[0;34m:\u001b[0m\u001b[0;34m\u001b[0m\u001b[0;34m\u001b[0m\u001b[0m\n\u001b[0;32m---> 20\u001b[0;31m     \u001b[0my_pred\u001b[0m\u001b[0;34m,\u001b[0m \u001b[0my_proba\u001b[0m \u001b[0;34m=\u001b[0m \u001b[0mrun_model\u001b[0m\u001b[0;34m(\u001b[0m\u001b[0mmodel\u001b[0m\u001b[0;34m,\u001b[0m \u001b[0mX_train\u001b[0m\u001b[0;34m,\u001b[0m \u001b[0my_train\u001b[0m\u001b[0;34m)\u001b[0m\u001b[0;34m\u001b[0m\u001b[0;34m\u001b[0m\u001b[0m\n\u001b[0m\u001b[1;32m     21\u001b[0m     \u001b[0maccuracy_dict\u001b[0m\u001b[0;34m[\u001b[0m\u001b[0mname\u001b[0m\u001b[0;34m]\u001b[0m \u001b[0;34m=\u001b[0m \u001b[0maccuracy_score\u001b[0m\u001b[0;34m(\u001b[0m\u001b[0my_test\u001b[0m\u001b[0;34m,\u001b[0m \u001b[0my_pred\u001b[0m\u001b[0;34m)\u001b[0m\u001b[0;34m\u001b[0m\u001b[0;34m\u001b[0m\u001b[0m\n\u001b[1;32m     22\u001b[0m     \u001b[0mroc_auc_dict\u001b[0m\u001b[0;34m[\u001b[0m\u001b[0mname\u001b[0m\u001b[0;34m]\u001b[0m \u001b[0;34m=\u001b[0m \u001b[0mroc_auc_score\u001b[0m\u001b[0;34m(\u001b[0m\u001b[0my_test\u001b[0m\u001b[0;34m,\u001b[0m \u001b[0my_pred\u001b[0m\u001b[0;34m)\u001b[0m\u001b[0;34m\u001b[0m\u001b[0;34m\u001b[0m\u001b[0m\n",
      "\u001b[0;32m<ipython-input-8-28acc03b9372>\u001b[0m in \u001b[0;36mrun_model\u001b[0;34m(model, X_train, y_train)\u001b[0m\n\u001b[1;32m      3\u001b[0m     \u001b[0mmodel\u001b[0m\u001b[0;34m.\u001b[0m\u001b[0mfit\u001b[0m\u001b[0;34m(\u001b[0m\u001b[0mX_train\u001b[0m\u001b[0;34m,\u001b[0m \u001b[0my_train\u001b[0m\u001b[0;34m)\u001b[0m\u001b[0;34m\u001b[0m\u001b[0;34m\u001b[0m\u001b[0m\n\u001b[1;32m      4\u001b[0m     \u001b[0my_pred\u001b[0m \u001b[0;34m=\u001b[0m \u001b[0mmodel\u001b[0m\u001b[0;34m.\u001b[0m\u001b[0mpredict\u001b[0m\u001b[0;34m(\u001b[0m\u001b[0mX_test\u001b[0m\u001b[0;34m)\u001b[0m\u001b[0;34m\u001b[0m\u001b[0;34m\u001b[0m\u001b[0m\n\u001b[0;32m----> 5\u001b[0;31m     \u001b[0my_proba\u001b[0m \u001b[0;34m=\u001b[0m \u001b[0mmodel\u001b[0m\u001b[0;34m.\u001b[0m\u001b[0mpredict_proba\u001b[0m\u001b[0;34m(\u001b[0m\u001b[0mX_test\u001b[0m\u001b[0;34m)\u001b[0m\u001b[0;34m\u001b[0m\u001b[0;34m\u001b[0m\u001b[0m\n\u001b[0m\u001b[1;32m      6\u001b[0m     \u001b[0;32mreturn\u001b[0m \u001b[0my_pred\u001b[0m\u001b[0;34m,\u001b[0m \u001b[0my_proba\u001b[0m\u001b[0;34m\u001b[0m\u001b[0;34m\u001b[0m\u001b[0m\n",
      "\u001b[0;31mAttributeError\u001b[0m: 'LinearSVC' object has no attribute 'predict_proba'"
     ]
    }
   ],
   "source": [
    "models = [LogisticRegression(max_iter=1000), \n",
    "          DecisionTreeClassifier(), \n",
    "          KNeighborsClassifier(n_neighbors = 5), \n",
    "          GaussianNB(), \n",
    "          LinearSVC(), \n",
    "          RandomForestClassifier(), \n",
    "          MLPClassifier(),\n",
    "          XGBClassifier()]\n",
    "\n",
    "verbose_models = ['Regressão logística', 'Árvore de decisão', 'KNN', \n",
    "                  'GaussianNB', 'Linear SVM', 'Floresta aleatória', \n",
    "                  'Multilayer perceptron', 'XGBoost']\n",
    "\n",
    "accuracy_dict = {}\n",
    "roc_auc_dict = {}\n",
    "precision_dict = {}\n",
    "recall_dict = {}\n",
    "f1_score_dict = {}\n",
    "for name, model in zip(verbose_models, models):\n",
    "    y_pred, y_proba = run_model(model, X_train, y_train)\n",
    "    accuracy_dict[name] = accuracy_score(y_test, y_pred)\n",
    "    roc_auc_dict[name] = roc_auc_score(y_test, y_pred)\n",
    "    precision_dict[name] = precision_score(y_test, y_pred) \n",
    "    recall_dict[name] = recall_score(y_test, y_pred)\n",
    "    f1_score_dict[name] = f1_score(y_test, y_pred)"
   ]
  },
  {
   "cell_type": "code",
   "execution_count": 9,
   "metadata": {},
   "outputs": [],
   "source": [
    "def show_report_model(y_test, y_pred):\n",
    "    # plotar a matrix de confusão\n",
    "    skplt.metrics.plot_confusion_matrix(y_test, y_pred, normalize=False)\n",
    "\n",
    "    # imprimir relatório de classificação\n",
    "    print(\"Relatório de Classificação:\\n\", classification_report(y_test, y_pred, digits=4))\n",
    "\n",
    "    # imprimir a acurácia do modelo\n",
    "    print(\"Acurácia: {:.4f}\\n\".format(accuracy_score(y_test, y_pred)))\n",
    "\n",
    "    # imprimir a área sob a curva\n",
    "    print(\"AUC: {:.4f}\\n\".format(roc_auc_score(y_test, y_pred)))\n",
    "    \n",
    "    # imprimir a precisao do modelo\n",
    "    print(\"Precisao: {:.4f}\\n\".format(precision_score(y_test, y_pred)))\n",
    "    \n",
    "    # imprimir a sensilibidade do modelo\n",
    "    print(\"Sensibilidade (Taxa de verdadeiro positivo): {:.4f}\\n\".format(recall_score(y_test, y_pred)))\n",
    "    \n",
    "    # imprimir o F1 score do modelo\n",
    "    print(\"F1 Score: {:.4f}\\n\".format(f1_score(y_test, y_pred)))"
   ]
  },
  {
   "cell_type": "markdown",
   "metadata": {},
   "source": [
    "### 3.1.1 Logistic Regression"
   ]
  },
  {
   "cell_type": "code",
   "execution_count": 10,
   "metadata": {},
   "outputs": [
    {
     "name": "stdout",
     "output_type": "stream",
     "text": [
      "Relatório de Classificação:\n",
      "               precision    recall  f1-score   support\n",
      "\n",
      "           0     0.9031    0.9716    0.9361     24039\n",
      "           1     0.6444    0.3302    0.4367      3743\n",
      "\n",
      "    accuracy                         0.8852     27782\n",
      "   macro avg     0.7737    0.6509    0.6864     27782\n",
      "weighted avg     0.8682    0.8852    0.8688     27782\n",
      "\n",
      "Acurácia: 0.8852\n",
      "\n",
      "AUC: 0.6509\n",
      "\n",
      "Precisao: 0.6444\n",
      "\n",
      "Sensibilidade (Taxa de verdadeiro positivo): 0.3302\n",
      "\n",
      "F1 Score: 0.4367\n",
      "\n"
     ]
    },
    {
     "data": {
      "image/png": "[encoded data removed]",
      "text/plain": [
       "<Figure size 432x288 with 2 Axes>"
      ]
     },
     "metadata": {
      "needs_background": "light"
     },
     "output_type": "display_data"
    }
   ],
   "source": [
    "# instanciar e treinar um modelo de Regressão Logística\n",
    "y_pred, y_proba = run_model(LogisticRegression(max_iter=1000), X_train, y_train)\n",
    "show_report_model(y_test, y_pred)"
   ]
  },
  {
   "cell_type": "markdown",
   "metadata": {},
   "source": [
    "### 3.1.2 Logistic Regression: Undersampling"
   ]
  },
  {
   "cell_type": "code",
   "execution_count": 11,
   "metadata": {},
   "outputs": [
    {
     "name": "stdout",
     "output_type": "stream",
     "text": [
      "Relatório de Classificação:\n",
      "               precision    recall  f1-score   support\n",
      "\n",
      "           0     0.9689    0.7906    0.8707     24039\n",
      "           1     0.3837    0.8370    0.5262      3743\n",
      "\n",
      "    accuracy                         0.7969     27782\n",
      "   macro avg     0.6763    0.8138    0.6984     27782\n",
      "weighted avg     0.8901    0.7969    0.8243     27782\n",
      "\n",
      "Acurácia: 0.7969\n",
      "\n",
      "AUC: 0.8138\n",
      "\n",
      "Precisao: 0.3837\n",
      "\n",
      "Sensibilidade (Taxa de verdadeiro positivo): 0.8370\n",
      "\n",
      "F1 Score: 0.5262\n",
      "\n"
     ]
    },
    {
     "data": {
      "image/png": "[encoded data removed]",
      "text/plain": [
       "<Figure size 432x288 with 2 Axes>"
      ]
     },
     "metadata": {
      "needs_background": "light"
     },
     "output_type": "display_data"
    }
   ],
   "source": [
    "# instanciar e treinar um modelo de Regressão Logística\n",
    "y_pred, y_proba = run_model(LogisticRegression(max_iter=1000), X_train_rus, y_train_rus)\n",
    "show_report_model(y_test, y_pred)"
   ]
  },
  {
   "cell_type": "markdown",
   "metadata": {},
   "source": [
    "### 3.2.1 Decision tree\n",
    "\n"
   ]
  },
  {
   "cell_type": "code",
   "execution_count": 12,
   "metadata": {},
   "outputs": [
    {
     "name": "stdout",
     "output_type": "stream",
     "text": [
      "Relatório de Classificação:\n",
      "               precision    recall  f1-score   support\n",
      "\n",
      "           0     0.9080    0.9651    0.9357     24039\n",
      "           1     0.6241    0.3722    0.4663      3743\n",
      "\n",
      "    accuracy                         0.8852     27782\n",
      "   macro avg     0.7661    0.6686    0.7010     27782\n",
      "weighted avg     0.8698    0.8852    0.8724     27782\n",
      "\n",
      "Acurácia: 0.8852\n",
      "\n",
      "AUC: 0.6686\n",
      "\n",
      "Precisao: 0.6241\n",
      "\n",
      "Sensibilidade (Taxa de verdadeiro positivo): 0.3722\n",
      "\n",
      "F1 Score: 0.4663\n",
      "\n"
     ]
    },
    {
     "data": {
      "image/png": "[encoded data removed]",
      "text/plain": [
       "<Figure size 432x288 with 2 Axes>"
      ]
     },
     "metadata": {
      "needs_background": "light"
     },
     "output_type": "display_data"
    }
   ],
   "source": [
    "y_pred, y_proba = run_model(DecisionTreeClassifier(), X_train, y_train)\n",
    "show_report_model(y_test, y_pred)"
   ]
  },
  {
   "cell_type": "markdown",
   "metadata": {},
   "source": [
    "### 3.2.2 Decision tree - balanced"
   ]
  },
  {
   "cell_type": "code",
   "execution_count": 13,
   "metadata": {},
   "outputs": [
    {
     "name": "stdout",
     "output_type": "stream",
     "text": [
      "Relatório de Classificação:\n",
      "               precision    recall  f1-score   support\n",
      "\n",
      "           0     0.9588    0.7903    0.8664     24039\n",
      "           1     0.3672    0.7817    0.4997      3743\n",
      "\n",
      "    accuracy                         0.7891     27782\n",
      "   macro avg     0.6630    0.7860    0.6830     27782\n",
      "weighted avg     0.8791    0.7891    0.8170     27782\n",
      "\n",
      "Acurácia: 0.7891\n",
      "\n",
      "AUC: 0.7860\n",
      "\n",
      "Precisao: 0.3672\n",
      "\n",
      "Sensibilidade (Taxa de verdadeiro positivo): 0.7817\n",
      "\n",
      "F1 Score: 0.4997\n",
      "\n"
     ]
    },
    {
     "data": {
      "image/png": "[encoded data removed]",
      "text/plain": [
       "<Figure size 432x288 with 2 Axes>"
      ]
     },
     "metadata": {
      "needs_background": "light"
     },
     "output_type": "display_data"
    }
   ],
   "source": [
    "y_pred, y_proba = run_model(DecisionTreeClassifier(), X_train_rus, y_train_rus)\n",
    "show_report_model(y_test, y_pred)"
   ]
  },
  {
   "cell_type": "code",
   "execution_count": null,
   "metadata": {},
   "outputs": [],
   "source": []
  }
 ],
 "metadata": {
  "kernelspec": {
   "display_name": "Python 3",
   "language": "python",
   "name": "python3"
  },
  "language_info": {
   "codemirror_mode": {
    "name": "ipython",
    "version": 3
   },
   "file_extension": ".py",
   "mimetype": "text/x-python",
   "name": "python",
   "nbconvert_exporter": "python",
   "pygments_lexer": "ipython3",
   "version": "3.6.9"
  }
 },
 "nbformat": 4,
 "nbformat_minor": 4
}
