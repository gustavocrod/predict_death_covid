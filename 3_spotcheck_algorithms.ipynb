{
 "cells": [
  {
   "cell_type": "markdown",
   "metadata": {},
   "source": [
    "### Carregamento das bibliotecas"
   ]
  },
  {
   "cell_type": "code",
   "execution_count": 1,
   "metadata": {},
   "outputs": [],
   "source": [
    "# Manipulacao de dados\n",
    "import numpy as np\n",
    "import pandas as pd\n",
    "\n",
    "# Visualizacao de dados\n",
    "import matplotlib.pyplot as plt\n",
    "import missingno as msno\n",
    "import seaborn as sns\n",
    "import scikitplot as skplt\n",
    "\n",
    "# Machine learning \n",
    "from sklearn.svm import LinearSVC\n",
    "from sklearn.ensemble import RandomForestClassifier, GradientBoostingClassifier\n",
    "from sklearn.naive_bayes import GaussianNB\n",
    "from sklearn.linear_model import LinearRegression, LogisticRegression, Ridge, Lasso\n",
    "from sklearn.tree import DecisionTreeClassifier\n",
    "from sklearn.neural_network import MLPClassifier\n",
    "from sklearn.neighbors import KNeighborsClassifier\n",
    "from sklearn.ensemble import RandomForestClassifier\n",
    "from xgboost import XGBClassifier\n",
    "\n",
    "# cross validate\n",
    "from sklearn.model_selection import train_test_split\n",
    "from sklearn.model_selection import StratifiedKFold, cross_validate, KFold\n",
    "from sklearn.metrics import make_scorer\n",
    "from sklearn.model_selection import cross_val_predict\n",
    "from sklearn.metrics import confusion_matrix\n",
    "\n",
    "# Selecao de caracteristicas e encoders\n",
    "from sklearn.preprocessing import OneHotEncoder, LabelEncoder\n",
    "\n",
    "# Metricas de avaliacao\n",
    "from sklearn.metrics import roc_curve, auc, roc_auc_score, accuracy_score, classification_report, confusion_matrix\n",
    "from sklearn.metrics import recall_score, precision_score, f1_score, average_precision_score\n",
    "\n",
    "# remover warning\n",
    "import warnings\n",
    "warnings.filterwarnings('ignore')"
   ]
  },
  {
   "cell_type": "code",
   "execution_count": 2,
   "metadata": {},
   "outputs": [],
   "source": [
    "df = pd.read_csv(\"files/covid_2021_cleaned.csv\", sep=';')"
   ]
  },
  {
   "cell_type": "code",
   "execution_count": 3,
   "metadata": {},
   "outputs": [
    {
     "data": {
      "text/html": [
       "<div>\n",
       "<style scoped>\n",
       "    .dataframe tbody tr th:only-of-type {\n",
       "        vertical-align: middle;\n",
       "    }\n",
       "\n",
       "    .dataframe tbody tr th {\n",
       "        vertical-align: top;\n",
       "    }\n",
       "\n",
       "    .dataframe thead th {\n",
       "        text-align: right;\n",
       "    }\n",
       "</style>\n",
       "<table border=\"1\" class=\"dataframe\">\n",
       "  <thead>\n",
       "    <tr style=\"text-align: right;\">\n",
       "      <th></th>\n",
       "      <th>SEXO</th>\n",
       "      <th>FAIXAETARIA</th>\n",
       "      <th>EVOLUCAO</th>\n",
       "      <th>FEBRE</th>\n",
       "      <th>TOSSE</th>\n",
       "      <th>GARGANTA</th>\n",
       "      <th>DISPNEIA</th>\n",
       "      <th>GESTANTE</th>\n",
       "      <th>SRAG</th>\n",
       "      <th>CARDIOPATIA</th>\n",
       "      <th>DIABETES</th>\n",
       "      <th>DOENCA_RESPIRATORIA</th>\n",
       "      <th>PROBLEMA_RENAL</th>\n",
       "      <th>OBESIDADE</th>\n",
       "      <th>DOENCA_CROMOSSOMICA</th>\n",
       "    </tr>\n",
       "  </thead>\n",
       "  <tbody>\n",
       "    <tr>\n",
       "      <th>0</th>\n",
       "      <td>Masculino</td>\n",
       "      <td>50 a 59</td>\n",
       "      <td>0</td>\n",
       "      <td>NAO</td>\n",
       "      <td>NAO</td>\n",
       "      <td>NAO</td>\n",
       "      <td>NAO</td>\n",
       "      <td>NAO</td>\n",
       "      <td>NAO</td>\n",
       "      <td>NAO</td>\n",
       "      <td>NAO</td>\n",
       "      <td>NAO</td>\n",
       "      <td>NÃO</td>\n",
       "      <td>NAO</td>\n",
       "      <td>NAO</td>\n",
       "    </tr>\n",
       "    <tr>\n",
       "      <th>1</th>\n",
       "      <td>Masculino</td>\n",
       "      <td>&lt;1</td>\n",
       "      <td>0</td>\n",
       "      <td>SIM</td>\n",
       "      <td>NAO</td>\n",
       "      <td>NAO</td>\n",
       "      <td>NAO</td>\n",
       "      <td>NAO</td>\n",
       "      <td>NAO</td>\n",
       "      <td>NAO</td>\n",
       "      <td>NAO</td>\n",
       "      <td>NAO</td>\n",
       "      <td>NÃO</td>\n",
       "      <td>NAO</td>\n",
       "      <td>NAO</td>\n",
       "    </tr>\n",
       "    <tr>\n",
       "      <th>2</th>\n",
       "      <td>Masculino</td>\n",
       "      <td>30 a 39</td>\n",
       "      <td>0</td>\n",
       "      <td>NAO</td>\n",
       "      <td>SIM</td>\n",
       "      <td>SIM</td>\n",
       "      <td>NAO</td>\n",
       "      <td>NAO</td>\n",
       "      <td>NAO</td>\n",
       "      <td>NAO</td>\n",
       "      <td>NAO</td>\n",
       "      <td>NAO</td>\n",
       "      <td>NÃO</td>\n",
       "      <td>NAO</td>\n",
       "      <td>NAO</td>\n",
       "    </tr>\n",
       "    <tr>\n",
       "      <th>3</th>\n",
       "      <td>Masculino</td>\n",
       "      <td>20 a 29</td>\n",
       "      <td>0</td>\n",
       "      <td>NAO</td>\n",
       "      <td>SIM</td>\n",
       "      <td>NAO</td>\n",
       "      <td>SIM</td>\n",
       "      <td>NAO</td>\n",
       "      <td>NAO</td>\n",
       "      <td>NAO</td>\n",
       "      <td>NAO</td>\n",
       "      <td>NAO</td>\n",
       "      <td>NÃO</td>\n",
       "      <td>NAO</td>\n",
       "      <td>NAO</td>\n",
       "    </tr>\n",
       "    <tr>\n",
       "      <th>4</th>\n",
       "      <td>Feminino</td>\n",
       "      <td>50 a 59</td>\n",
       "      <td>0</td>\n",
       "      <td>NAO</td>\n",
       "      <td>SIM</td>\n",
       "      <td>NAO</td>\n",
       "      <td>SIM</td>\n",
       "      <td>NAO</td>\n",
       "      <td>SIM</td>\n",
       "      <td>NAO</td>\n",
       "      <td>NAO</td>\n",
       "      <td>NAO</td>\n",
       "      <td>NÃO</td>\n",
       "      <td>NAO</td>\n",
       "      <td>NAO</td>\n",
       "    </tr>\n",
       "  </tbody>\n",
       "</table>\n",
       "</div>"
      ],
      "text/plain": [
       "        SEXO FAIXAETARIA  EVOLUCAO FEBRE TOSSE GARGANTA DISPNEIA GESTANTE  \\\n",
       "0  Masculino     50 a 59         0   NAO   NAO      NAO      NAO      NAO   \n",
       "1  Masculino          <1         0   SIM   NAO      NAO      NAO      NAO   \n",
       "2  Masculino     30 a 39         0   NAO   SIM      SIM      NAO      NAO   \n",
       "3  Masculino     20 a 29         0   NAO   SIM      NAO      SIM      NAO   \n",
       "4   Feminino     50 a 59         0   NAO   SIM      NAO      SIM      NAO   \n",
       "\n",
       "  SRAG CARDIOPATIA DIABETES DOENCA_RESPIRATORIA PROBLEMA_RENAL OBESIDADE  \\\n",
       "0  NAO         NAO      NAO                 NAO            NÃO       NAO   \n",
       "1  NAO         NAO      NAO                 NAO            NÃO       NAO   \n",
       "2  NAO         NAO      NAO                 NAO            NÃO       NAO   \n",
       "3  NAO         NAO      NAO                 NAO            NÃO       NAO   \n",
       "4  SIM         NAO      NAO                 NAO            NÃO       NAO   \n",
       "\n",
       "  DOENCA_CROMOSSOMICA  \n",
       "0                 NAO  \n",
       "1                 NAO  \n",
       "2                 NAO  \n",
       "3                 NAO  \n",
       "4                 NAO  "
      ]
     },
     "execution_count": 3,
     "metadata": {},
     "output_type": "execute_result"
    }
   ],
   "source": [
    "df.head()"
   ]
  },
  {
   "cell_type": "markdown",
   "metadata": {},
   "source": [
    "___\n",
    "# III. Teste e validação dos modelos"
   ]
  },
  {
   "cell_type": "markdown",
   "metadata": {},
   "source": [
    "## 1.  *Feature Encoding*\n",
    "\n",
    "Como modelos de *machine learning* performam algebra linear em matrizes, precisamos que todas as variáveis estejam como valores numericos. O processo de conversão de variaveis categoricas em numéricas é chamado de *Encoding*. Existem algumas abordagens para converter os dados categóricos em numéricos, para que o modelo possa entendê-los. Veremos os dois métodos: **Label encoding** e **One-Hot encoding**.\n",
    "\n",
    "- Label Encoding: Recomendado quando lidamos com variáveis categóricas ordinais: Consiste em *designar um valor inteiro* (0, 1, 2, ...) oara cada valor unico da coluna.\n",
    "- One-hot encoding: Consiste em *criar uma nova coluna* para cada valor único de uma coluna existente.\n",
    "\n",
    "Material complementar:\n",
    "- [Um guia (simples) de como tratar variáveis categóricas em Machine Learning](https://medium.com/@nelson.ewert.oliveira/um-guia-simples-de-como-tratar-vari%C3%A1veis-categ%C3%B3ricas-em-machine-learning-b791a00da805)\n",
    "- [One-Hot Encoding vs. Label Encoding using Scikit-Learn](https://www.analyticsvidhya.com/blog/2020/03/one-hot-encoding-vs-label-encoding-using-scikit-learn/)\n",
    "- [Guide to Encoding Categorical Values in Python](https://pbpython.com/categorical-encoding.html)\n",
    "\n",
    "Para nosso contexto, vamos utilizar o **One-hot encoding**.\n"
   ]
  },
  {
   "cell_type": "code",
   "execution_count": 4,
   "metadata": {},
   "outputs": [],
   "source": [
    "df = pd.get_dummies(df, drop_first=True)"
   ]
  },
  {
   "cell_type": "code",
   "execution_count": 5,
   "metadata": {},
   "outputs": [
    {
     "data": {
      "text/plain": [
       "Index(['EVOLUCAO', 'SEXO_Masculino', 'FAIXAETARIA_05 a 09',\n",
       "       'FAIXAETARIA_10 a 14', 'FAIXAETARIA_15 a 19', 'FAIXAETARIA_20 a 29',\n",
       "       'FAIXAETARIA_30 a 39', 'FAIXAETARIA_40 a 49', 'FAIXAETARIA_50 a 59',\n",
       "       'FAIXAETARIA_60 a 69', 'FAIXAETARIA_70 a 79', 'FAIXAETARIA_80 e mais',\n",
       "       'FAIXAETARIA_<1', 'FEBRE_SIM', 'TOSSE_SIM', 'GARGANTA_SIM',\n",
       "       'DISPNEIA_SIM', 'GESTANTE_SIM', 'SRAG_SIM', 'CARDIOPATIA_SIM',\n",
       "       'DIABETES_SIM', 'DOENCA_RESPIRATORIA_SIM', 'PROBLEMA_RENAL_SIM',\n",
       "       'OBESIDADE_SIM', 'DOENCA_CROMOSSOMICA_SIM'],\n",
       "      dtype='object')"
      ]
     },
     "execution_count": 5,
     "metadata": {},
     "output_type": "execute_result"
    }
   ],
   "source": [
    "df.columns"
   ]
  },
  {
   "cell_type": "code",
   "execution_count": 6,
   "metadata": {},
   "outputs": [],
   "source": [
    "# renomear para nao dar problema com '<'\n",
    "df.rename(columns={\"FAIXAETARIA_<1\": \"FAIXAETARIA_MENOR_1\"}, inplace=True)"
   ]
  },
  {
   "cell_type": "code",
   "execution_count": 7,
   "metadata": {},
   "outputs": [
    {
     "data": {
      "text/plain": [
       "Index(['EVOLUCAO', 'SEXO_Masculino', 'FAIXAETARIA_05 a 09',\n",
       "       'FAIXAETARIA_10 a 14', 'FAIXAETARIA_15 a 19', 'FAIXAETARIA_20 a 29',\n",
       "       'FAIXAETARIA_30 a 39', 'FAIXAETARIA_40 a 49', 'FAIXAETARIA_50 a 59',\n",
       "       'FAIXAETARIA_60 a 69', 'FAIXAETARIA_70 a 79', 'FAIXAETARIA_80 e mais',\n",
       "       'FAIXAETARIA_MENOR_1', 'FEBRE_SIM', 'TOSSE_SIM', 'GARGANTA_SIM',\n",
       "       'DISPNEIA_SIM', 'GESTANTE_SIM', 'SRAG_SIM', 'CARDIOPATIA_SIM',\n",
       "       'DIABETES_SIM', 'DOENCA_RESPIRATORIA_SIM', 'PROBLEMA_RENAL_SIM',\n",
       "       'OBESIDADE_SIM', 'DOENCA_CROMOSSOMICA_SIM'],\n",
       "      dtype='object')"
      ]
     },
     "execution_count": 7,
     "metadata": {},
     "output_type": "execute_result"
    }
   ],
   "source": [
    "df.columns"
   ]
  },
  {
   "cell_type": "code",
   "execution_count": 8,
   "metadata": {},
   "outputs": [],
   "source": [
    "# salvar no disco\n",
    "df.to_csv(\"files/covid_2021_prepared.csv\", sep=';', index=False)"
   ]
  },
  {
   "cell_type": "markdown",
   "metadata": {},
   "source": [
    "## 2. Separação treino-teste"
   ]
  },
  {
   "cell_type": "code",
   "execution_count": 9,
   "metadata": {},
   "outputs": [],
   "source": [
    "X = df.drop(['EVOLUCAO'], axis=1)\n",
    "y = df['EVOLUCAO']"
   ]
  },
  {
   "cell_type": "code",
   "execution_count": 10,
   "metadata": {},
   "outputs": [],
   "source": [
    "# divisao treino test\n",
    "X_train, X_test, y_train, y_test = train_test_split(X, y, stratify=y, test_size=0.3, random_state=777)"
   ]
  },
  {
   "cell_type": "markdown",
   "metadata": {},
   "source": [
    "## 3. Treino dos modelos"
   ]
  },
  {
   "cell_type": "code",
   "execution_count": 11,
   "metadata": {},
   "outputs": [
    {
     "name": "stdout",
     "output_type": "stream",
     "text": [
      "===============\n",
      "Decision Tree\n",
      "              precision    recall  f1-score   support\n",
      "\n",
      "           0       0.98      0.99      0.99    169695\n",
      "           1       0.56      0.43      0.49      5574\n",
      "\n",
      "    accuracy                           0.97    175269\n",
      "   macro avg       0.77      0.71      0.74    175269\n",
      "weighted avg       0.97      0.97      0.97    175269\n",
      "\n"
     ]
    },
    {
     "data": {
      "image/png": "[encoded data removed]",
      "text/plain": [
       "<Figure size 432x288 with 2 Axes>"
      ]
     },
     "metadata": {
      "needs_background": "light"
     },
     "output_type": "display_data"
    },
    {
     "name": "stdout",
     "output_type": "stream",
     "text": [
      "===============\n",
      "===============\n",
      "Random Forest\n",
      "              precision    recall  f1-score   support\n",
      "\n",
      "           0       0.98      0.99      0.99    169695\n",
      "           1       0.56      0.44      0.49      5574\n",
      "\n",
      "    accuracy                           0.97    175269\n",
      "   macro avg       0.77      0.71      0.74    175269\n",
      "weighted avg       0.97      0.97      0.97    175269\n",
      "\n"
     ]
    },
    {
     "data": {
      "image/png": "[encoded data removed]",
      "text/plain": [
       "<Figure size 432x288 with 2 Axes>"
      ]
     },
     "metadata": {
      "needs_background": "light"
     },
     "output_type": "display_data"
    },
    {
     "name": "stdout",
     "output_type": "stream",
     "text": [
      "===============\n",
      "===============\n",
      "XGBoost\n",
      "[20:35:06] WARNING: ../src/learner.cc:1061: Starting in XGBoost 1.3.0, the default evaluation metric used with the objective 'binary:logistic' was changed from 'error' to 'logloss'. Explicitly set eval_metric if you'd like to restore the old behavior.\n",
      "              precision    recall  f1-score   support\n",
      "\n",
      "           0       0.98      0.99      0.99    169695\n",
      "           1       0.58      0.43      0.50      5574\n",
      "\n",
      "    accuracy                           0.97    175269\n",
      "   macro avg       0.78      0.71      0.74    175269\n",
      "weighted avg       0.97      0.97      0.97    175269\n",
      "\n"
     ]
    },
    {
     "data": {
      "image/png": "[encoded data removed]",
      "text/plain": [
       "<Figure size 432x288 with 2 Axes>"
      ]
     },
     "metadata": {
      "needs_background": "light"
     },
     "output_type": "display_data"
    },
    {
     "name": "stdout",
     "output_type": "stream",
     "text": [
      "===============\n"
     ]
    }
   ],
   "source": [
    "SEED = 777\n",
    "np.random.seed(SEED)\n",
    "models = [DecisionTreeClassifier(max_depth=3, random_state=SEED), RandomForestClassifier(random_state=SEED), XGBClassifier(random_state=SEED)]\n",
    "\n",
    "verbose_models = ['Decision Tree', 'Random Forest', 'XGBoost']\n",
    "\n",
    "for name, model in zip(verbose_models, models):\n",
    "    print(\"===============\")\n",
    "    print(name)\n",
    "    model.fit(X_train, y_train)\n",
    "    y_pred = model.predict(X_test)\n",
    "    print(classification_report(y_test, y_pred))\n",
    "    skplt.metrics.plot_confusion_matrix(y_true=y_test, y_pred=y_pred)\n",
    "    plt.show()\n",
    "    print(\"===============\")\n",
    "    "
   ]
  },
  {
   "cell_type": "code",
   "execution_count": null,
   "metadata": {},
   "outputs": [],
   "source": []
  }
 ],
 "metadata": {
  "kernelspec": {
   "display_name": "Python 3",
   "language": "python",
   "name": "python3"
  },
  "language_info": {
   "codemirror_mode": {
    "name": "ipython",
    "version": 3
   },
   "file_extension": ".py",
   "mimetype": "text/x-python",
   "name": "python",
   "nbconvert_exporter": "python",
   "pygments_lexer": "ipython3",
   "version": "3.6.9"
  }
 },
 "nbformat": 4,
 "nbformat_minor": 4
}
